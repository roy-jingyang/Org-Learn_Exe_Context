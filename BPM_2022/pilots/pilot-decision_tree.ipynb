{
 "cells": [
  {
   "cell_type": "code",
   "execution_count": 1,
   "id": "a60f53ca-606f-480e-815f-80ae937b6432",
   "metadata": {},
   "outputs": [],
   "source": [
    "import pandas as pd\n",
    "import seaborn as sns\n",
    "import sklearn"
   ]
  },
  {
   "cell_type": "code",
   "execution_count": 2,
   "id": "49c47c28-f26c-49e9-bb8b-8b470aed259f",
   "metadata": {},
   "outputs": [],
   "source": [
    "NEW_DATA = False\n",
    "\n",
    "if NEW_DATA:\n",
    "    # load and preprocess event log data\n",
    "\n",
    "    df = pd.read_csv('data/bpic17.csv')[[\n",
    "        'Resource',\n",
    "        'Case ID', 'Activity', 'Complete Timestamp',\n",
    "        'LoanGoal', 'ApplicationType', 'RequestedAmount', 'OfferedAmount',\n",
    "        'EventOrigin', 'Action'\n",
    "    ]]\n",
    "\n",
    "\n",
    "    # keep records of frequent human resources (classes) only\n",
    "    # remove 'User_1' - the \"System\"\n",
    "    df = df[df['Resource'] != 'User_1']\n",
    "\n",
    "    resource_occurrences = df.value_counts(subset=['Resource'], normalize=True, sort=True)\n",
    "    frequent_resources = {k[0] for k, v in resource_occurrences.to_dict().items() if v >= 0.02}\n",
    "    print(f'{len(frequent_resources)} resources: {frequent_resources}')\n",
    "    df = df[df['Resource'].isin(frequent_resources)]\n",
    "    \n",
    "    # select and rename CT and AT related candidate attributes\n",
    "    df = df.rename(columns={\n",
    "        # CT-related\n",
    "        'LoanGoal': 'ct:loan_goal', \n",
    "        'ApplicationType': 'ct:application_type', \n",
    "        'RequestedAmount': 'ct:requested_amount', \n",
    "        'OfferedAmount': 'ct:offered_amount',\n",
    "        # AT-related\n",
    "        'EventOrigin': 'at:event_origin', \n",
    "        'Action': 'at:action'\n",
    "    })\n",
    "\n",
    "    # derive and append TT related candidate attributes\n",
    "    df['Complete Timestamp'] = pd.to_datetime(df['Complete Timestamp'], format='%Y-%m-%d %H:%M:%S.%f')\n",
    "    MONTHS = ['Jan', 'Feb', 'Mar', 'Apr', 'May', 'Jun', 'Jul', 'Aug', 'Sep', 'Oct', 'Nov', 'Dec']\n",
    "    df['tt:month'] = df['Complete Timestamp'].apply(lambda ts: MONTHS[ts.month-1])\n",
    "    df['tt:day'] = df['Complete Timestamp'].apply(lambda ts: 'Day_{}'.format(ts.day))\n",
    "    WEEKDAYS = ['Mon', 'Tue', 'Wed', 'Thu', 'Fri', 'Sat', 'Sun']\n",
    "    df['tt:weekday'] = df['Complete Timestamp'].apply(lambda ts: WEEKDAYS[ts.dayofweek])\n",
    "    df['tt:ampm'] = df['Complete Timestamp'].apply(lambda ts: 'AM' if ts.hour < 12 else 'PM')\n",
    "    \n",
    "    df.to_csv('data/input.csv')"
   ]
  },
  {
   "cell_type": "code",
   "execution_count": 3,
   "id": "30f98a1c-06cc-4bd6-9b89-6d14b8500de6",
   "metadata": {},
   "outputs": [],
   "source": [
    "df = pd.read_csv('data/input.csv')\n",
    "\n",
    "# select attributes\n",
    "'''\n",
    "df = df[[\n",
    "    'Resource',\n",
    "    'ct:loan_goal', 'ct:application_type', 'ct:requested_amount',# 'ct:offered_amount',\n",
    "    'at:event_origin', 'at:action',\n",
    "    'tt:weekday', 'tt:ampm'\n",
    "]]\n",
    "'''\n",
    "df = df[[\n",
    "    'Resource',\n",
    "    'ct:application_type',\n",
    "    'at:event_origin',\n",
    "    'tt:ampm'\n",
    "]]\n",
    "\n",
    "cat_features = [\n",
    "    'ct:application_type', \n",
    "    'at:event_origin',\n",
    "    'tt:ampm'\n",
    "]\n",
    "\n",
    "#df.to_csv('data/bpic17.processed.csv', index_label='index')\n",
    "\n",
    "df = pd.get_dummies(data=df, columns=cat_features, prefix_sep='::')\n",
    "#print(df)"
   ]
  },
  {
   "cell_type": "code",
   "execution_count": 4,
   "id": "e7aaa46f-ee0f-4eb5-9ee4-77859b5c767d",
   "metadata": {},
   "outputs": [
    {
     "data": {
      "text/plain": [
       "0.31687396113945093"
      ]
     },
     "execution_count": 4,
     "metadata": {},
     "output_type": "execute_result"
    }
   ],
   "source": [
    "features = [col for col in df.columns if col != 'Resource']\n",
    "X = df[features]\n",
    "y = df['Resource']\n",
    "\n",
    "from sklearn import tree\n",
    "\n",
    "clf = tree.DecisionTreeClassifier(criterion='entropy', \n",
    "                                  #max_depth=3, \n",
    "                                  random_state=0)\n",
    "clf.fit(X, y)\n",
    "\n",
    "scorer = sklearn.metrics.accuracy_score\n",
    "scorer(y, clf.predict(X))\n"
   ]
  },
  {
   "cell_type": "code",
   "execution_count": 5,
   "id": "d0042563-8b92-42c9-8c41-44610c9d7093",
   "metadata": {},
   "outputs": [
    {
     "data": {
      "text/plain": [
       "'tree.pdf'"
      ]
     },
     "execution_count": 5,
     "metadata": {},
     "output_type": "execute_result"
    }
   ],
   "source": [
    "# plot the fitted tree\n",
    "\n",
    "import graphviz\n",
    "\n",
    "dot_data = tree.export_graphviz(clf, out_file=None, \n",
    "                                feature_names=features,  \n",
    "                                class_names=list(pd.unique(y)),  \n",
    "                                filled=True, rounded=True,  \n",
    "                                special_characters=True)\n",
    "\n",
    "graph = graphviz.Source(dot_data)\n",
    "graph.render('tree')"
   ]
  },
  {
   "cell_type": "code",
   "execution_count": null,
   "id": "92fa7ca0-0d78-4869-b274-8b80fdcaebd8",
   "metadata": {},
   "outputs": [],
   "source": []
  }
 ],
 "metadata": {
  "kernelspec": {
   "display_name": "Python 3 (ipykernel)",
   "language": "python",
   "name": "python3"
  },
  "language_info": {
   "codemirror_mode": {
    "name": "ipython",
    "version": 3
   },
   "file_extension": ".py",
   "mimetype": "text/x-python",
   "name": "python",
   "nbconvert_exporter": "python",
   "pygments_lexer": "ipython3",
   "version": "3.9.6"
  }
 },
 "nbformat": 4,
 "nbformat_minor": 5
}

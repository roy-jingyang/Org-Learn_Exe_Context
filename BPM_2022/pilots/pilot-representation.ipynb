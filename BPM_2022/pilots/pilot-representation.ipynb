{
 "cells": [
  {
   "cell_type": "code",
   "execution_count": 1,
   "id": "bafec23c-ff58-4f81-8f18-11a3c7194cf1",
   "metadata": {},
   "outputs": [],
   "source": [
    "import numpy as np\n",
    "import pandas as pd\n",
    "import random\n",
    "from copy import deepcopy"
   ]
  },
  {
   "cell_type": "code",
   "execution_count": 2,
   "id": "e1dec5d1-8fed-48be-94aa-3602bcc58974",
   "metadata": {},
   "outputs": [
    {
     "data": {
      "text/html": [
       "<div>\n",
       "<style scoped>\n",
       "    .dataframe tbody tr th:only-of-type {\n",
       "        vertical-align: middle;\n",
       "    }\n",
       "\n",
       "    .dataframe tbody tr th {\n",
       "        vertical-align: top;\n",
       "    }\n",
       "\n",
       "    .dataframe thead th {\n",
       "        text-align: right;\n",
       "    }\n",
       "</style>\n",
       "<table border=\"1\" class=\"dataframe\">\n",
       "  <thead>\n",
       "    <tr style=\"text-align: right;\">\n",
       "      <th></th>\n",
       "      <th>A</th>\n",
       "      <th>B</th>\n",
       "      <th>C</th>\n",
       "      <th>D</th>\n",
       "    </tr>\n",
       "  </thead>\n",
       "  <tbody>\n",
       "    <tr>\n",
       "      <th>0</th>\n",
       "      <td>a0</td>\n",
       "      <td>b2</td>\n",
       "      <td>c9</td>\n",
       "      <td>d0</td>\n",
       "    </tr>\n",
       "    <tr>\n",
       "      <th>1</th>\n",
       "      <td>a0</td>\n",
       "      <td>b4</td>\n",
       "      <td>c2</td>\n",
       "      <td>d0</td>\n",
       "    </tr>\n",
       "    <tr>\n",
       "      <th>2</th>\n",
       "      <td>a0</td>\n",
       "      <td>b1</td>\n",
       "      <td>c4</td>\n",
       "      <td>d0</td>\n",
       "    </tr>\n",
       "    <tr>\n",
       "      <th>3</th>\n",
       "      <td>a1</td>\n",
       "      <td>b0</td>\n",
       "      <td>c7</td>\n",
       "      <td>d0</td>\n",
       "    </tr>\n",
       "    <tr>\n",
       "      <th>4</th>\n",
       "      <td>a0</td>\n",
       "      <td>b3</td>\n",
       "      <td>c8</td>\n",
       "      <td>d0</td>\n",
       "    </tr>\n",
       "    <tr>\n",
       "      <th>...</th>\n",
       "      <td>...</td>\n",
       "      <td>...</td>\n",
       "      <td>...</td>\n",
       "      <td>...</td>\n",
       "    </tr>\n",
       "    <tr>\n",
       "      <th>9995</th>\n",
       "      <td>a0</td>\n",
       "      <td>b0</td>\n",
       "      <td>c5</td>\n",
       "      <td>d0</td>\n",
       "    </tr>\n",
       "    <tr>\n",
       "      <th>9996</th>\n",
       "      <td>a1</td>\n",
       "      <td>b3</td>\n",
       "      <td>c8</td>\n",
       "      <td>d0</td>\n",
       "    </tr>\n",
       "    <tr>\n",
       "      <th>9997</th>\n",
       "      <td>a1</td>\n",
       "      <td>b3</td>\n",
       "      <td>c7</td>\n",
       "      <td>d0</td>\n",
       "    </tr>\n",
       "    <tr>\n",
       "      <th>9998</th>\n",
       "      <td>a0</td>\n",
       "      <td>b3</td>\n",
       "      <td>c3</td>\n",
       "      <td>d0</td>\n",
       "    </tr>\n",
       "    <tr>\n",
       "      <th>9999</th>\n",
       "      <td>a0</td>\n",
       "      <td>b1</td>\n",
       "      <td>c6</td>\n",
       "      <td>d0</td>\n",
       "    </tr>\n",
       "  </tbody>\n",
       "</table>\n",
       "<p>10000 rows × 4 columns</p>\n",
       "</div>"
      ],
      "text/plain": [
       "       A   B   C   D\n",
       "0     a0  b2  c9  d0\n",
       "1     a0  b4  c2  d0\n",
       "2     a0  b1  c4  d0\n",
       "3     a1  b0  c7  d0\n",
       "4     a0  b3  c8  d0\n",
       "...   ..  ..  ..  ..\n",
       "9995  a0  b0  c5  d0\n",
       "9996  a1  b3  c8  d0\n",
       "9997  a1  b3  c7  d0\n",
       "9998  a0  b3  c3  d0\n",
       "9999  a0  b1  c6  d0\n",
       "\n",
       "[10000 rows x 4 columns]"
      ]
     },
     "execution_count": 2,
     "metadata": {},
     "output_type": "execute_result"
    }
   ],
   "source": [
    "df = []\n",
    "\n",
    "size = 1e4\n",
    "\n",
    "A = ['a0', 'a1']\n",
    "B = ['b0', 'b1', 'b2', 'b3', 'b4']\n",
    "C = ['c0', 'c1', 'c2', 'c3', 'c4', 'c5', 'c6', 'c7', 'c8', 'c9']\n",
    "D = ['d0']\n",
    "\n",
    "for i in range(int(size)):\n",
    "    df.append({'A': random.choice(A), 'B': random.choice(B), 'C': random.choice(C), 'D': D[0]})\n",
    "\n",
    "df = pd.DataFrame(df)\n",
    "df['A'] = df['A'].astype('category')\n",
    "df['B'] = df['B'].astype('category')\n",
    "df['C'] = df['C'].astype('category')\n",
    "df['D'] = df['D'].astype('category')\n",
    "df"
   ]
  },
  {
   "cell_type": "markdown",
   "id": "59b98b94-22f3-4e1a-98e2-e2b4727764e0",
   "metadata": {},
   "source": [
    "### \"Element-based\" implementation of block representation (correct)"
   ]
  },
  {
   "cell_type": "code",
   "execution_count": 101,
   "id": "475661dd-0400-4412-8d42-5c01fd855d0f",
   "metadata": {},
   "outputs": [],
   "source": [
    "def init_state(s):\n",
    "    categories = list(s.cat.categories)\n",
    "    \n",
    "    # decide the number of parts\n",
    "    n_parts = random.choice(range(1, len(categories)+1))\n",
    "    if n_parts == 1:\n",
    "        return [categories]\n",
    "    elif n_parts == len(categories):\n",
    "        return [[x] for x in categories]\n",
    "    else:\n",
    "        container = []\n",
    "        # decide the part elements\n",
    "        random.shuffle(categories)\n",
    "        ix_bars = sorted(random.sample(range(1, len(categories)), k=n_parts-1))\n",
    "        ix_bars = [0] + ix_bars + [len(categories)]\n",
    "        container = []\n",
    "        for i, ix in enumerate(ix_bars):\n",
    "            if i > 0:\n",
    "                container.append(categories[ix_bars[i-1]:ix])\n",
    "        return container"
   ]
  },
  {
   "cell_type": "code",
   "execution_count": 106,
   "id": "52e7cddd-6584-4040-8dce-34d44b04897f",
   "metadata": {},
   "outputs": [
    {
     "name": "stdout",
     "output_type": "stream",
     "text": [
      "[['a0'], ['a1']]\n",
      "2\n",
      "[['b1'], ['b3'], ['b4', 'b2', 'b0']]\n",
      "3\n",
      "[['c0'], ['c1', 'c3'], ['c4', 'c9', 'c5'], ['c7', 'c2', 'c6', 'c8']]\n",
      "4\n",
      "[['d0']]\n",
      "1\n"
     ]
    }
   ],
   "source": [
    "pA = init_state(df['A'])\n",
    "print(pA)\n",
    "print(len(pA))\n",
    "pB = init_state(df['B'])\n",
    "print(pB)\n",
    "print(len(pB))\n",
    "pC = init_state(df['C'])\n",
    "print(pC)\n",
    "print(len(pC))\n",
    "pD = init_state(df['D'])\n",
    "print(pD)\n",
    "print(len(pD))"
   ]
  },
  {
   "cell_type": "code",
   "execution_count": 133,
   "id": "d0bb7aa6-feea-4a41-aa77-43f9e53b5d27",
   "metadata": {},
   "outputs": [],
   "source": [
    "def split(container, max_n):\n",
    "    if len(container) == max_n:\n",
    "        return None\n",
    "    else:\n",
    "        new_container = container.copy()\n",
    "        indices = list(range(len(new_container)))\n",
    "        random.shuffle(indices)\n",
    "        for i in indices:\n",
    "            if len(new_container[i]) > 1:\n",
    "                # only split a part that are not singleton\n",
    "                ix_bar = 1 if len(new_container[i]) == 2 else random.choice(range(1, len(new_container[i])))\n",
    "                random.shuffle(new_container[i])\n",
    "                new_container.append(new_container[i][:ix_bar])\n",
    "                new_container.append(new_container[i][ix_bar:])\n",
    "                # append does not change existing indices, pop safely\n",
    "                new_container.pop(i)\n",
    "                return new_container"
   ]
  },
  {
   "cell_type": "code",
   "execution_count": 148,
   "id": "5797fc85-2ba4-455f-9268-6222d6bed4ff",
   "metadata": {},
   "outputs": [
    {
     "name": "stdout",
     "output_type": "stream",
     "text": [
      "[['b1'], ['b3'], ['b2'], ['b4', 'b0']]\n",
      "[['b1'], ['b3'], ['b2'], ['b0'], ['b4']]\n",
      "None\n",
      "[['b1'], ['b3'], ['b2', 'b4', 'b0']]\n"
     ]
    }
   ],
   "source": [
    "ret = pB\n",
    "while True:\n",
    "    ret = split(ret, 5)\n",
    "    print(ret)\n",
    "    if ret is None:\n",
    "        break\n",
    "print(pB)"
   ]
  },
  {
   "cell_type": "code",
   "execution_count": 119,
   "id": "aae77f6b-83e9-4a94-bd8a-d945a06e7f29",
   "metadata": {},
   "outputs": [],
   "source": [
    "def merge(container):\n",
    "    if len(container) == 1:\n",
    "        return None\n",
    "    elif len(container) == 2:\n",
    "        return [container[0] + container[1]]\n",
    "    else:\n",
    "        new_container = []\n",
    "        ixs_to_merge = random.sample(range(len(container)), k=2)\n",
    "        merged = container[ixs_to_merge[0]].copy() + container[ixs_to_merge[1]].copy()\n",
    "        for i in range(len(container)):\n",
    "            if i not in ixs_to_merge:\n",
    "                new_container.append(container[i].copy())\n",
    "        new_container.append(merged)\n",
    "        return new_container"
   ]
  },
  {
   "cell_type": "code",
   "execution_count": 124,
   "id": "473734e1-5cb7-4755-a93a-d3d5208b040e",
   "metadata": {},
   "outputs": [
    {
     "name": "stdout",
     "output_type": "stream",
     "text": [
      "[['b3'], ['b4', 'b2', 'b0', 'b1']]\n",
      "[['b3', 'b4', 'b2', 'b0', 'b1']]\n",
      "None\n",
      "[['b1'], ['b3'], ['b4', 'b2', 'b0']]\n"
     ]
    }
   ],
   "source": [
    "ret = pB\n",
    "while True:\n",
    "    ret = merge(ret)\n",
    "    print(ret)\n",
    "    if ret is None:\n",
    "        break\n",
    "print(pB)"
   ]
  },
  {
   "cell_type": "code",
   "execution_count": 152,
   "id": "e4f75c77-f2d4-47b8-8346-660c6b480bd2",
   "metadata": {},
   "outputs": [
    {
     "name": "stdout",
     "output_type": "stream",
     "text": [
      "204 µs ± 549 ns per loop (mean ± std. dev. of 7 runs, 1,000 loops each)\n"
     ]
    }
   ],
   "source": [
    "%timeit split([[f'x{i}' for i in range(100)]], 100)"
   ]
  },
  {
   "cell_type": "code",
   "execution_count": 153,
   "id": "2a3ce822-ee5e-4427-80eb-dfadae27a9be",
   "metadata": {},
   "outputs": [
    {
     "name": "stdout",
     "output_type": "stream",
     "text": [
      "157 µs ± 841 ns per loop (mean ± std. dev. of 7 runs, 10,000 loops each)\n"
     ]
    }
   ],
   "source": [
    "%timeit merge([[f'x{i}'] for i in range(100)])"
   ]
  },
  {
   "cell_type": "markdown",
   "id": "5947b244-3713-4e74-a4ad-e07b1aacda8c",
   "metadata": {},
   "source": [
    "### \"Membership-based\" implementation of graphical representation (correct)"
   ]
  },
  {
   "cell_type": "code",
   "execution_count": 302,
   "id": "fc65590d-b6fb-42c9-8ae2-2b67e288381e",
   "metadata": {},
   "outputs": [],
   "source": [
    "def init_state3(s):\n",
    "    categories = sorted(s.cat.categories)\n",
    "    n = len(categories)\n",
    "    \n",
    "    if n == 1:\n",
    "        return np.array([[1]], dtype=int)\n",
    "    \n",
    "    mat = np.zeros((n, n), dtype=int)\n",
    "    for i, x in enumerate(categories):\n",
    "        i_part = np.random.choice(len(categories))\n",
    "        mat[i, i_part] = 1\n",
    "    \n",
    "    return mat"
   ]
  },
  {
   "cell_type": "code",
   "execution_count": 319,
   "id": "a5c6cdca-eb12-48be-92c6-7f653147c65f",
   "metadata": {},
   "outputs": [
    {
     "name": "stdout",
     "output_type": "stream",
     "text": [
      "[[0 1]\n",
      " [0 1]]\n",
      "2\n",
      "[[0 0 1 0 0]\n",
      " [0 1 0 0 0]\n",
      " [1 0 0 0 0]\n",
      " [0 0 0 0 1]\n",
      " [0 0 1 0 0]]\n",
      "5\n",
      "[[0 0 1 0 0 0 0 0 0 0]\n",
      " [0 0 0 0 0 0 0 1 0 0]\n",
      " [0 0 0 0 0 0 0 1 0 0]\n",
      " [0 0 0 0 0 0 0 0 1 0]\n",
      " [0 0 0 1 0 0 0 0 0 0]\n",
      " [0 1 0 0 0 0 0 0 0 0]\n",
      " [1 0 0 0 0 0 0 0 0 0]\n",
      " [0 0 0 0 0 0 0 1 0 0]\n",
      " [0 0 0 0 1 0 0 0 0 0]\n",
      " [0 0 0 0 0 0 1 0 0 0]]\n",
      "10\n",
      "[[1]]\n",
      "1\n"
     ]
    }
   ],
   "source": [
    "pA = init_state3(df['A'])\n",
    "print(pA)\n",
    "print(len(pA))\n",
    "pB = init_state3(df['B'])\n",
    "print(pB)\n",
    "print(len(pB))\n",
    "pC = init_state3(df['C'])\n",
    "print(pC)\n",
    "print(len(pC))\n",
    "pD = init_state3(df['D'])\n",
    "print(pD)\n",
    "print(len(pD))"
   ]
  },
  {
   "cell_type": "code",
   "execution_count": 320,
   "id": "a0077b39-54a0-46fb-97e7-940f1b7461a1",
   "metadata": {},
   "outputs": [],
   "source": [
    "def identify(mat):\n",
    "    base = 2 ** np.array(range(len(mat)))\n",
    "    dot_prod = np.dot(base, mat)\n",
    "    return frozenset(dot_prod[dot_prod != 0])\n",
    "    \n",
    "#     s = set()\n",
    "#     for arr in mat[:,cols_nonzero].T.tolist():\n",
    "#         print(''.join(str(ele) for ele in arr))\n",
    "        "
   ]
  },
  {
   "cell_type": "code",
   "execution_count": 321,
   "id": "b3a8cafe-8e53-45ea-abbc-ebafedcee376",
   "metadata": {},
   "outputs": [
    {
     "name": "stdout",
     "output_type": "stream",
     "text": [
      "frozenset({3})\n",
      "frozenset({8, 17, 2, 4})\n",
      "frozenset({64, 1, 32, 256, 512, 134, 8, 16})\n",
      "frozenset({1})\n"
     ]
    }
   ],
   "source": [
    "print(identify(pA))\n",
    "print(identify(pB))\n",
    "print(identify(pC))\n",
    "print(identify(pD))"
   ]
  },
  {
   "cell_type": "code",
   "execution_count": 256,
   "id": "9c438396-d178-4087-8ddc-166e90290bc1",
   "metadata": {},
   "outputs": [],
   "source": [
    "def split3(mat):\n",
    "    if np.all(np.any(mat, axis=0)) and np.sum(mat) == len(mat):\n",
    "        # all singletons\n",
    "        return None\n",
    "    mat = mat.copy()\n",
    "    rng = np.random.default_rng()\n",
    "    arr_sum = np.sum(mat, axis=0)\n",
    "    cols_nonzero = np.unique(np.nonzero(mat)[1])\n",
    "    first_col_allzero = np.amin(np.nonzero(np.all(mat == 0, axis=0))[0])\n",
    "    np.random.shuffle(cols_nonzero)\n",
    "    for col in cols_nonzero:\n",
    "        if np.sum(mat[:,col]) > 1:\n",
    "            rows_nonzero = np.nonzero(mat[:,col])[0]\n",
    "            i_bar = rng.choice(len(rows_nonzero) - 1) + 1\n",
    "            mat[rows_nonzero[i_bar:],col] = 0\n",
    "            mat[rows_nonzero[i_bar:],first_col_allzero] = 1\n",
    "            return mat"
   ]
  },
  {
   "cell_type": "code",
   "execution_count": 263,
   "id": "d6215a3e-a5bf-435b-8941-748541b68c7d",
   "metadata": {},
   "outputs": [
    {
     "name": "stdout",
     "output_type": "stream",
     "text": [
      "[[0. 0. 0. 0. 1.]\n",
      " [1. 0. 0. 0. 0.]\n",
      " [0. 1. 0. 0. 0.]\n",
      " [1. 0. 0. 0. 0.]\n",
      " [0. 0. 0. 1. 0.]]\n",
      "[[0. 0. 0. 0. 1.]\n",
      " [1. 0. 0. 0. 0.]\n",
      " [0. 1. 0. 0. 0.]\n",
      " [0. 0. 1. 0. 0.]\n",
      " [0. 0. 0. 1. 0.]]\n",
      "None\n",
      "[[0. 0. 0. 0. 1.]\n",
      " [1. 0. 0. 0. 0.]\n",
      " [0. 0. 0. 0. 1.]\n",
      " [1. 0. 0. 0. 0.]\n",
      " [0. 0. 0. 1. 0.]]\n"
     ]
    }
   ],
   "source": [
    "ret = pB\n",
    "while True:\n",
    "    ret = split3(ret)\n",
    "    print(ret)\n",
    "    if ret is None:\n",
    "        break\n",
    "print(pB)"
   ]
  },
  {
   "cell_type": "code",
   "execution_count": 287,
   "id": "ce53f186-9506-4409-ab93-2e78b8c7ebda",
   "metadata": {},
   "outputs": [],
   "source": [
    "def merge3(mat):\n",
    "    if np.sum(np.all(mat, axis=0)) == 1:\n",
    "        # only singleton\n",
    "        return None\n",
    "    mat = mat.copy()\n",
    "    rng = np.random.default_rng()\n",
    "    cols_nonzero = np.unique(np.nonzero(mat)[1])\n",
    "    if len(cols_nonzero) > 2:\n",
    "        sel_cols_nonzero = cols_nonzero[rng.choice(len(cols_nonzero), size=2)]\n",
    "    else:\n",
    "        sel_cols_nonzero = cols_nonzero[:]\n",
    "    merged_col = mat[:,sel_cols_nonzero[0]] + mat[:,sel_cols_nonzero[1]]\n",
    "    mat[:,sel_cols_nonzero[0]] = merged_col\n",
    "    mat[:,sel_cols_nonzero[1]] = 0\n",
    "    return mat    "
   ]
  },
  {
   "cell_type": "code",
   "execution_count": 325,
   "id": "ceca4821-8c66-487b-ac9d-5553e20fa2d2",
   "metadata": {},
   "outputs": [
    {
     "name": "stdout",
     "output_type": "stream",
     "text": [
      "[[0 1 0 0 0]\n",
      " [0 1 0 0 0]\n",
      " [1 0 0 0 0]\n",
      " [0 0 0 0 1]\n",
      " [0 1 0 0 0]]\n",
      "[[1 0 0 0 0]\n",
      " [1 0 0 0 0]\n",
      " [1 0 0 0 0]\n",
      " [0 0 0 0 1]\n",
      " [1 0 0 0 0]]\n",
      "[[1 0 0 0 0]\n",
      " [1 0 0 0 0]\n",
      " [1 0 0 0 0]\n",
      " [1 0 0 0 0]\n",
      " [1 0 0 0 0]]\n",
      "None\n",
      "[[0 0 1 0 0]\n",
      " [0 1 0 0 0]\n",
      " [1 0 0 0 0]\n",
      " [0 0 0 0 1]\n",
      " [0 0 1 0 0]]\n",
      "(array([0, 4]),)\n"
     ]
    }
   ],
   "source": [
    "ret = pB\n",
    "while True:\n",
    "    ret = merge3(ret)\n",
    "    print(ret)\n",
    "    if ret is None:\n",
    "        break\n",
    "print(pB)\n",
    "print(np.nonzero(np.dot(pB, np.array([0, 0, 1, 0, 0]).T)))"
   ]
  },
  {
   "cell_type": "code",
   "execution_count": 290,
   "id": "c1116c40-8a81-4f0c-bfa4-d3a8f88ae7a2",
   "metadata": {},
   "outputs": [
    {
     "name": "stdout",
     "output_type": "stream",
     "text": [
      "678 µs ± 1.74 µs per loop (mean ± std. dev. of 7 runs, 1,000 loops each)\n"
     ]
    }
   ],
   "source": [
    "x = np.zeros((100, 100))\n",
    "x[:0] = 1\n",
    "%timeit split3(x)"
   ]
  },
  {
   "cell_type": "code",
   "execution_count": 291,
   "id": "9d632a9d-4c68-47ca-88ee-a7a3e5b20156",
   "metadata": {},
   "outputs": [
    {
     "name": "stdout",
     "output_type": "stream",
     "text": [
      "774 µs ± 5.78 µs per loop (mean ± std. dev. of 7 runs, 1,000 loops each)\n"
     ]
    }
   ],
   "source": [
    "x = np.eye(100)\n",
    "%timeit merge3(x)"
   ]
  },
  {
   "cell_type": "markdown",
   "id": "bc1fa7c3-4c87-464d-b161-75e6991c3989",
   "metadata": {},
   "source": [
    "### \"Index-based\" implementation of block representation (incorrect)"
   ]
  },
  {
   "cell_type": "code",
   "execution_count": 11,
   "id": "929fe734-a9dd-4919-9c2a-4310e301d889",
   "metadata": {},
   "outputs": [],
   "source": [
    "def init_state2(s):\n",
    "    categories = s.cat.categories\n",
    "    idx = list(range(len(categories)))\n",
    "    #random.shuffle(idx)\n",
    "    # decide the number of parts\n",
    "    n_parts = random.choice(range(1, len(categories)+1))\n",
    "    ix_bars = sorted(random.sample(range(1, len(idx)), k=n_parts-1))\n",
    "    return idx, ix_bars\n",
    "\n",
    "def split2(ix_bars, max_n):\n",
    "    if len(ix_bars) + 1 == max_n:\n",
    "        return None\n",
    "    else:\n",
    "        ix_bars_vacant = set(range(1, max_n)) - set(ix_bars)\n",
    "        ix_bar_add = random.choice(list(ix_bars_vacant))\n",
    "        return sorted(ix_bars + [ix_bar_add])\n",
    "    \n",
    "def merge2(ix_bars):\n",
    "    if len(ix_bars) == 0:\n",
    "        return None\n",
    "    elif len(ix_bars) == 1:\n",
    "        return []\n",
    "    else:\n",
    "        iix_bar_rm = random.choice(range(len(ix_bars)))\n",
    "        new_ix_bars = ix_bars.copy()\n",
    "        new_ix_bars.pop(iix_bar_rm)\n",
    "        return new_ix_bars\n",
    "    "
   ]
  },
  {
   "cell_type": "code",
   "execution_count": 12,
   "id": "9240246f-a9a7-4498-9f88-86b8d94a855f",
   "metadata": {},
   "outputs": [
    {
     "name": "stdout",
     "output_type": "stream",
     "text": [
      "([0, 1], [])\n",
      "([0, 1, 2, 3, 4], [])\n",
      "([0, 1, 2, 3, 4, 5, 6, 7, 8, 9], [2, 3])\n",
      "([0], [])\n"
     ]
    }
   ],
   "source": [
    "idxA, barsA = init_state2(df['A'])\n",
    "print((idxA, barsA))\n",
    "idxB, barsB = init_state2(df['B'])\n",
    "print((idxB, barsB))\n",
    "idxC, barsC = init_state2(df['C'])\n",
    "print((idxC, barsC))\n",
    "idxD, barsD = init_state2(df['D'])\n",
    "print((idxD, barsD))"
   ]
  },
  {
   "cell_type": "code",
   "execution_count": 13,
   "id": "b625e83b-bbd8-4001-80e0-d88efccbeac6",
   "metadata": {},
   "outputs": [
    {
     "name": "stdout",
     "output_type": "stream",
     "text": [
      "[1, 2, 3]\n",
      "[1, 2, 3, 5]\n",
      "[1, 2, 3, 5, 7]\n",
      "[1, 2, 3, 5, 6, 7]\n",
      "[1, 2, 3, 5, 6, 7, 8]\n",
      "[1, 2, 3, 5, 6, 7, 8, 9]\n",
      "[1, 2, 3, 4, 5, 6, 7, 8, 9]\n",
      "None\n",
      "[2, 3]\n"
     ]
    }
   ],
   "source": [
    "ret = barsC\n",
    "while True:\n",
    "    ret = split2(ret, 10)\n",
    "    print(ret)\n",
    "    if ret is None:\n",
    "        break\n",
    "print(barsC)"
   ]
  },
  {
   "cell_type": "code",
   "execution_count": 14,
   "id": "534fc15e-f25a-4f19-baff-1ae3ba535ad9",
   "metadata": {},
   "outputs": [
    {
     "name": "stdout",
     "output_type": "stream",
     "text": [
      "[3]\n",
      "[]\n",
      "None\n",
      "[2, 3]\n"
     ]
    }
   ],
   "source": [
    "ret = barsC\n",
    "while True:\n",
    "    ret = merge2(ret)\n",
    "    print(ret)\n",
    "    if ret is None:\n",
    "        break\n",
    "print(barsC)"
   ]
  },
  {
   "cell_type": "code",
   "execution_count": 29,
   "id": "5665ad5a-842f-4663-80e7-bc40388b32ed",
   "metadata": {},
   "outputs": [
    {
     "name": "stdout",
     "output_type": "stream",
     "text": [
      "18.6 µs ± 153 ns per loop (mean ± std. dev. of 7 runs, 100,000 loops each)\n"
     ]
    }
   ],
   "source": [
    "%timeit split2([], 100)"
   ]
  },
  {
   "cell_type": "code",
   "execution_count": 30,
   "id": "1560ff76-0727-46f4-b2c5-ccc070698a94",
   "metadata": {},
   "outputs": [
    {
     "name": "stdout",
     "output_type": "stream",
     "text": [
      "7.59 µs ± 44.3 ns per loop (mean ± std. dev. of 7 runs, 100,000 loops each)\n"
     ]
    }
   ],
   "source": [
    "%timeit merge2(list(range(1, 100)))"
   ]
  },
  {
   "cell_type": "code",
   "execution_count": null,
   "id": "68854b54-063f-4955-81c2-f10f84d385de",
   "metadata": {},
   "outputs": [],
   "source": []
  }
 ],
 "metadata": {
  "kernelspec": {
   "display_name": "Python 3",
   "language": "python",
   "name": "python3"
  },
  "language_info": {
   "codemirror_mode": {
    "name": "ipython",
    "version": 3
   },
   "file_extension": ".py",
   "mimetype": "text/x-python",
   "name": "python",
   "nbconvert_exporter": "python",
   "pygments_lexer": "ipython3",
   "version": "3.9.6"
  }
 },
 "nbformat": 4,
 "nbformat_minor": 5
}

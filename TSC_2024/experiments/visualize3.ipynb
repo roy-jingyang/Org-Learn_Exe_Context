{
 "cells": [
  {
   "cell_type": "code",
   "execution_count": null,
   "id": "330fce30-ce3a-48d1-a37f-35cdebb69d64",
   "metadata": {},
   "outputs": [],
   "source": [
    "import pandas as pd\n",
    "import numpy as np\n",
    "import seaborn as sns\n",
    "import matplotlib.pyplot as plt\n",
    "sns.set_theme()"
   ]
  },
  {
   "cell_type": "code",
   "execution_count": null,
   "id": "082381dc-2d16-471e-9a95-12d5dcf59aaf",
   "metadata": {},
   "outputs": [],
   "source": [
    "df = pd.read_csv('results/Extended/Full_results-SA_vs_SOTA.csv')\n",
    "df['score'] = 2 * (1 - df['dispersal']) * (1 - df['impurity']) / (1 - df['dispersal'] + 1 - df['impurity'])\n",
    "df = df.rename(columns={'#contexts': '#execution contexts', 'CPU time': 'CPU time (seconds)'})\n",
    "sel_log = 'sepsis'\n",
    "# sel_log = 'wabo'\n",
    "df = df[df['log'] == sel_log]\n",
    "df "
   ]
  },
  {
   "cell_type": "code",
   "execution_count": null,
   "id": "63e63b5e-f924-429b-8f22-accf705dcd60",
   "metadata": {},
   "outputs": [],
   "source": [
    "def plot(data, y):\n",
    "    plt.figure(figsize=(4, 4))\n",
    "    g = sns.boxplot(\n",
    "        data, x='method', y=y, hue='method',\n",
    "        flierprops={\"marker\": \"x\"},\n",
    "        palette=sns.palettes.color_palette('deep')[1::]\n",
    "    ).set_title(f'log = {sel_log}')\n",
    "    return g"
   ]
  },
  {
   "cell_type": "code",
   "execution_count": null,
   "id": "408ef36b-5030-48b0-8f6e-0ae22f817e2d",
   "metadata": {},
   "outputs": [],
   "source": [
    "g = plot(df, 'impurity')"
   ]
  },
  {
   "cell_type": "code",
   "execution_count": null,
   "id": "0c2397df-fd51-48b6-88e4-746cd20bed38",
   "metadata": {},
   "outputs": [],
   "source": [
    "g = plot(df, 'dispersal')"
   ]
  },
  {
   "cell_type": "code",
   "execution_count": null,
   "id": "7491e813-a109-43ad-bd48-f5e820d63058",
   "metadata": {},
   "outputs": [],
   "source": [
    "g = plot(df, 'score')"
   ]
  }
 ],
 "metadata": {
  "kernelspec": {
   "display_name": "pm",
   "language": "python",
   "name": "python3"
  },
  "language_info": {
   "codemirror_mode": {
    "name": "ipython",
    "version": 3
   },
   "file_extension": ".py",
   "mimetype": "text/x-python",
   "name": "python",
   "nbconvert_exporter": "python",
   "pygments_lexer": "ipython3",
   "version": "3.11.11"
  }
 },
 "nbformat": 4,
 "nbformat_minor": 5
}

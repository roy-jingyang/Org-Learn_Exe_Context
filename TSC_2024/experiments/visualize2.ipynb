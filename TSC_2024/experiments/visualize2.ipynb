{
 "cells": [
  {
   "cell_type": "code",
   "execution_count": null,
   "id": "330fce30-ce3a-48d1-a37f-35cdebb69d64",
   "metadata": {},
   "outputs": [],
   "source": [
    "import pandas as pd\n",
    "import numpy as np\n",
    "import seaborn as sns\n",
    "import matplotlib.pyplot as plt\n",
    "sns.set_theme()"
   ]
  },
  {
   "cell_type": "code",
   "execution_count": null,
   "id": "082381dc-2d16-471e-9a95-12d5dcf59aaf",
   "metadata": {},
   "outputs": [],
   "source": [
    "df = pd.read_csv('results/Full_results-SA_vs_tree.csv')\n",
    "df['CPU time'] = pd.to_datetime(df['CPU time'], format='%H:%M:%S')\n",
    "df['CPU time'] = (df['CPU time'] - pd.Timestamp(1900, 1, 1, 0, 0, 0)).dt.total_seconds()\n",
    "# df['CPU time (log)'] = np.log10(df['CPU time'])\n",
    "df['score'] = 2 * (1 - df['dispersal']) * (1 - df['impurity']) / (1 - df['dispersal'] + 1 - df['impurity'])\n",
    "df = df.rename(columns={'#contexts': '#execution contexts', 'CPU time': 'CPU time (seconds)'})\n",
    "df"
   ]
  },
  {
   "cell_type": "code",
   "execution_count": null,
   "id": "740b07f5-5d7f-4bf2-a820-2286881e7123",
   "metadata": {},
   "outputs": [],
   "source": [
    "# df[['log', 'method', '#execution contexts', '#CT', '#AT', '#TT', 'impurity', 'dispersal', 'score', 'CPU time']].to_csv('contexts_full.csv')"
   ]
  },
  {
   "cell_type": "code",
   "execution_count": null,
   "id": "63e63b5e-f924-429b-8f22-accf705dcd60",
   "metadata": {},
   "outputs": [],
   "source": [
    "def plot_grid(data, y, legend=True):\n",
    "    g = sns.FacetGrid(data, col='log', sharey=False, aspect=0.75)\n",
    "    g.map(sns.boxplot, 'method', y, 'method', order=['tree-based', 'SA-based'], flierprops={\"marker\": \"x\"}, palette=sns.palettes.color_palette('deep', 2)[::-1])\n",
    "    g.set(xlabel=None, xticklabels=[])\n",
    "    if legend:\n",
    "        g.add_legend(label_order=['tree-based', 'SA-based'])\n",
    "        sns.move_legend(g, 'lower center', bbox_to_anchor=(.5, 1), ncol=2, frameon=False)\n",
    "    g.tight_layout()\n",
    "    return g"
   ]
  },
  {
   "cell_type": "code",
   "execution_count": null,
   "id": "afbdf6ac-6104-4a19-a36d-588de91cee17",
   "metadata": {},
   "outputs": [],
   "source": [
    "# fig, ax = plt.subplots(figsize=(8, 5))\n",
    "# sns.boxplot(\n",
    "#     data=df, x='log', y='#contexts', hue='method', orient='v', \n",
    "#     order=['bpic15', 'bpic17', 'bpic18', 'sepsis', 'wabo'],\n",
    "#     hue_order=['tree-based', 'SA-based'],\n",
    "#     flierprops={\"marker\": \"x\"},\n",
    "#     ax=ax\n",
    "# )\n",
    "# ax.set(xlabel='', ylabel='#execution\\ncontexts')\n",
    "# sns.move_legend(ax, \"upper left\", bbox_to_anchor=(1, 1))\n",
    "\n",
    "g = plot_grid(df, '#execution contexts')\n",
    "# g.savefig('results_visualization//all_boxplots_size.pdf')"
   ]
  },
  {
   "cell_type": "code",
   "execution_count": null,
   "id": "408ef36b-5030-48b0-8f6e-0ae22f817e2d",
   "metadata": {},
   "outputs": [],
   "source": [
    "# fig, ax = plt.subplots(figsize=(8, 5))\n",
    "# sns.boxplot(\n",
    "#     data=df, x='log', y='impurity', hue='method', orient='v', \n",
    "#     order=['bpic15', 'bpic17', 'bpic18', 'sepsis', 'wabo'],\n",
    "#     hue_order=['tree-based', 'SA-based'],\n",
    "#     flierprops={\"marker\": \"x\"},\n",
    "#     ax=ax\n",
    "# )\n",
    "# ax.set(xlabel='', ylabel='impurity')\n",
    "# ax.get_legend().remove()\n",
    "# # sns.move_legend(ax, \"upper left\", bbox_to_anchor=(1, 1))\n",
    "\n",
    "g = plot_grid(df, 'impurity')\n",
    "# g.savefig('results_visualization//all_boxplots_impurity.pdf')"
   ]
  },
  {
   "cell_type": "code",
   "execution_count": null,
   "id": "0c2397df-fd51-48b6-88e4-746cd20bed38",
   "metadata": {},
   "outputs": [],
   "source": [
    "# fig, ax = plt.subplots(figsize=(8, 5))\n",
    "# sns.boxplot(\n",
    "#     data=df, x='log', y='dispersal', hue='method', orient='v', \n",
    "#     order=['bpic15', 'bpic17', 'bpic18', 'sepsis', 'wabo'],\n",
    "#     hue_order=['tree-based', 'SA-based'],\n",
    "#     flierprops={\"marker\": \"x\"},\n",
    "#     ax=ax, \n",
    "# )\n",
    "# ax.set(xlabel='log', ylabel='dispersal')\n",
    "# ax.get_legend().remove()\n",
    "# # sns.move_legend(ax, \"upper left\", bbox_to_anchor=(1, 1))\n",
    "\n",
    "g = plot_grid(df, 'dispersal', legend=False)\n",
    "# g.savefig('results_visualization//all_boxplots_dispersal.pdf')"
   ]
  },
  {
   "cell_type": "code",
   "execution_count": null,
   "id": "7491e813-a109-43ad-bd48-f5e820d63058",
   "metadata": {},
   "outputs": [],
   "source": [
    "# fig, ax = plt.subplots(figsize=(8, 5))\n",
    "# sns.boxplot(\n",
    "#     data=df, x='log', y='score', hue='method', orient='v', \n",
    "#     order=['bpic15', 'bpic17', 'bpic18', 'sepsis', 'wabo'],\n",
    "#     hue_order=['tree-based', 'SA-based'],\n",
    "#     flierprops={\"marker\": \"x\"},\n",
    "#     ax=ax, \n",
    "# )\n",
    "# ax.set(xlabel='log', ylabel='score')\n",
    "# ax.get_legend().remove()\n",
    "# # sns.move_legend(ax, \"upper left\", bbox_to_anchor=(1, 1))\n",
    "\n",
    "g = plot_grid(df, 'score', legend=False)\n",
    "# g.savefig('results_visualization//all_boxplots_score.pdf')"
   ]
  },
  {
   "cell_type": "code",
   "execution_count": null,
   "id": "1c7976fc-0d6e-4de2-a5a9-bf2fad7d22a9",
   "metadata": {},
   "outputs": [],
   "source": [
    "g = plot_grid(df, 'CPU time (seconds)', legend=True)\n",
    "# g.savefig('results_visualization//all_boxplots_cputime.pdf')"
   ]
  },
  {
   "cell_type": "code",
   "execution_count": null,
   "id": "9e5a8ae3-4bfc-4e58-929e-bd15a04a3811",
   "metadata": {},
   "outputs": [],
   "source": [
    "df2 = pd.read_csv('results/wabo_test-learning-rates.csv')\n",
    "df2['score'] = 2 * (1 - df2['dispersal']) * (1 - df2['impurity']) / (1 - df2['dispersal'] + 1 - df2['impurity'])\n",
    "df2 = df2.rename(columns={'#ec': '#execution contexts'})\n",
    "df2 = pd.melt(df2, id_vars='alpha')\n",
    "df2 = df2[df2['variable'].isin(['#execution contexts', 'impurity', 'dispersal', 'score'])]\n",
    "df2"
   ]
  },
  {
   "cell_type": "markdown",
   "id": "fc30bb22",
   "metadata": {},
   "source": [
    "# "
   ]
  },
  {
   "cell_type": "code",
   "execution_count": null,
   "id": "1ffd5a69-d705-4250-9670-ce187d035866",
   "metadata": {},
   "outputs": [],
   "source": [
    "g = sns.FacetGrid(df2, col='variable', col_order=['#execution contexts', 'impurity', 'dispersal', 'score'], sharey=False, aspect=0.75)\n",
    "g.map(sns.boxplot, 'alpha', 'value', 'alpha', order=[0.95, 0.995], flierprops={\"marker\": \"x\"}, palette=sns.palettes.color_palette('deep', 3)[1:])\n",
    "# g.map(sns.histplot,'value', 'alpha')\n",
    "g.set_titles(template=None, row_template='', col_template='{col_name}')\n",
    "# g.set(xlabel=None, ylabel=None, xticklabels=['217\\n(α=0.95)', '2216\\n(α=0.995)'])\n",
    "g.set(xlabel=None, ylabel=None, xticklabels=[])\n",
    "g.add_legend()\n",
    "# replace legend labels\n",
    "new_labels = ['SA-based with 217 iterations\\n(α=0.95)', 'SA-based with 2216 iterations\\n(α=0.995)']\n",
    "for t, l in zip(g._legend.texts, new_labels):\n",
    "    t.set_text(l)\n",
    "sns.move_legend(g, 'lower center', bbox_to_anchor=(.5, 1), ncol=2, frameon=False)\n",
    "g.tight_layout()\n",
    "# g.savefig('results_visualization//wabo_learning_rates.pdf')"
   ]
  },
  {
   "cell_type": "code",
   "execution_count": null,
   "id": "b74e8a32-3bc9-45a0-a686-34e3e131ae67",
   "metadata": {},
   "outputs": [],
   "source": []
  }
 ],
 "metadata": {
  "kernelspec": {
   "display_name": "pm",
   "language": "python",
   "name": "python3"
  },
  "language_info": {
   "codemirror_mode": {
    "name": "ipython",
    "version": 3
   },
   "file_extension": ".py",
   "mimetype": "text/x-python",
   "name": "python",
   "nbconvert_exporter": "python",
   "pygments_lexer": "ipython3",
   "version": "3.11.11"
  }
 },
 "nbformat": 4,
 "nbformat_minor": 5
}

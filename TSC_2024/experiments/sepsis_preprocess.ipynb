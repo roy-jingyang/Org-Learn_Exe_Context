{
 "cells": [
  {
   "cell_type": "markdown",
   "id": "46945647-7ee2-414a-867f-fe3b381c2f04",
   "metadata": {},
   "source": [
    "### Make top-level imports\n",
    "\n",
    "* PM4Py\n",
    "* OrdinoR (*note: from local repo*)"
   ]
  },
  {
   "cell_type": "code",
   "execution_count": 3,
   "id": "fda2fa1d-9b27-42f2-affd-22270e3864a3",
   "metadata": {},
   "outputs": [],
   "source": [
    "from os.path import join as path_join\n",
    "\n",
    "from itertools import product\n",
    "\n",
    "import pandas as pd\n",
    "import pm4py\n",
    "\n",
    "import ordinor.constants as const"
   ]
  },
  {
   "cell_type": "markdown",
   "id": "5de966ec-854a-4693-90b4-b860db12e282",
   "metadata": {},
   "source": [
    "### Import original event log data file\n",
    "\n",
    "- Resource labels refer to the organizational group labels (i.e., `org:group`) in the sepsis log"
   ]
  },
  {
   "cell_type": "code",
   "execution_count": 4,
   "id": "39dc3293-76de-4c54-8e74-3e130cbb62a9",
   "metadata": {
    "tags": []
   },
   "outputs": [
    {
     "name": "stdout",
     "output_type": "stream",
     "text": [
      "Import source event log ./data/DATA_csv/sepsis.csv\n",
      "Importing from CSV file ./data/DATA_csv/sepsis.csv\n",
      "Scanned 15214 events from \"./data/DATA_csv/sepsis.csv\".\n",
      "--------------------------------------------------------------------------------\n",
      "Number of events:\t\t15190\n",
      "Number of cases:\t\t1049\n",
      "--------------------------------------------------------------------------------\n",
      "['@@case_index', '@@index', 'Age', 'CRP', 'Diagnose', 'DiagnosticArtAstrup', 'DiagnosticBlood', 'DiagnosticECG', 'DiagnosticIC', 'DiagnosticLacticAcid', 'DiagnosticLiquor', 'DiagnosticOther', 'DiagnosticSputum', 'DiagnosticUrinaryCulture', 'DiagnosticUrinarySediment', 'DiagnosticXthorax', 'DisfuncOrg', 'Hypotensie', 'Hypoxie', 'InfectionSuspected', 'Infusion', 'LacticAcid', 'Leucocytes', 'Oligurie', 'SIRSCritHeartRate', 'SIRSCritLeucos', 'SIRSCritTachypnea', 'SIRSCritTemperature', 'SIRSCriteria2OrMore', 'Unnamed: 0', 'case:concept:name', 'concept:name', 'lifecycle:transition', 'org:resource', 'time:timestamp']\n",
      "<StringArray>\n",
      "[  'A',  'AA', 'AAA',  'AB', 'ABA',  'AC', 'ACA',  'AD', 'ADA',  'AE',\n",
      " ...\n",
      "  'ZQ',  'ZR',  'ZS',  'ZT',  'ZU',  'ZV',  'ZW',  'ZX',  'ZY',  'ZZ']\n",
      "Length: 1049, dtype: string\n"
     ]
    },
    {
     "name": "stderr",
     "output_type": "stream",
     "text": [
      "/home/yangj29/anaconda3/envs/pm/lib/python3.11/site-packages/pm4py/utils.py:132: UserWarning: Some rows of the Pandas data frame have been removed because of empty case IDs, activity labels, or timestamps to ensure the correct functioning of PM4Py's algorithms.\n",
      "  warnings.warn(\n",
      "/home/yangj29/anaconda3/envs/pm/lib/python3.11/site-packages/pm4py/utils.py:137: SettingWithCopyWarning: \n",
      "A value is trying to be set on a copy of a slice from a DataFrame.\n",
      "Try using .loc[row_indexer,col_indexer] = value instead\n",
      "\n",
      "See the caveats in the documentation: https://pandas.pydata.org/pandas-docs/stable/user_guide/indexing.html#returning-a-view-versus-a-copy\n",
      "  df[constants.CASE_CONCEPT_NAME] = df[constants.CASE_CONCEPT_NAME].astype(\n",
      "/home/yangj29/anaconda3/envs/pm/lib/python3.11/site-packages/pm4py/utils.py:141: SettingWithCopyWarning: \n",
      "A value is trying to be set on a copy of a slice from a DataFrame.\n",
      "Try using .loc[row_indexer,col_indexer] = value instead\n",
      "\n",
      "See the caveats in the documentation: https://pandas.pydata.org/pandas-docs/stable/user_guide/indexing.html#returning-a-view-versus-a-copy\n",
      "  df[xes_constants.DEFAULT_NAME_KEY] = df[\n"
     ]
    }
   ],
   "source": [
    "DIRPATH = './data/DATA_csv'\n",
    "LOGNAME = 'sepsis'\n",
    "\n",
    "from ordinor.io import read_csv\n",
    "from ordinor.utils.log_preprocessing import append_case_duration\n",
    "\n",
    "fn = path_join(DIRPATH, f'{LOGNAME}.csv')\n",
    "print(f'Import source event log {fn}')\n",
    "\n",
    "try:\n",
    "    # set the resource label manually\n",
    "    log = read_csv(fn, resource_id=const.GROUP)\n",
    "except Exception as e:\n",
    "    print(e)\n",
    "\n",
    "# NOTE: the sepsis log records a case with case id \"NA\", which will be parsed by Pandas as a N/A value (\"nan\")\n",
    "# Manually remap case id \"NA\" to \"NA (not nan)\"\n",
    "\n",
    "log.loc[log[const.CASE_ID] == 'nan', const.CASE_ID] = 'NA (not nan)'\n",
    "\n",
    "print(sorted(log.columns))\n",
    "print(log[const.CASE_ID].unique())"
   ]
  },
  {
   "cell_type": "markdown",
   "id": "579238f8-1282-4dd8-b66d-e482e455fbcf",
   "metadata": {},
   "source": [
    "### Data preprocessing (generic)\n",
    "\n",
    "- Annotate events to cluster activities:\n",
    "    - based on whether they are of \"medical\" or \"logistical category\" (see data description doc)\n",
    "    - based on which \"phase\" they are concerned with (see data description doc)\n",
    "- Annotate cases:\n",
    "    - \"case:returning\": based on whether cases are related to returning patients\n",
    "    - \"case:release_type\": based on which release variant cases ended up with\n",
    "- Populate event attributes that are case-level attributes, and rename them with prefix `case:` (see data description doc)"
   ]
  },
  {
   "cell_type": "code",
   "execution_count": 5,
   "id": "7789f52c-ff65-4d28-9548-a7aac9cf30c6",
   "metadata": {},
   "outputs": [],
   "source": [
    "# Annotate events to cluster activities\n",
    "ACTIVITY_CLUSTERS = {\n",
    "    'ER Registration': {'category': 'logistical', 'phase': 'registration and triaging'},\n",
    "    'ER Triage': {'category': 'logistical', 'phase': 'registration and triaging'},\n",
    "    'ER Sepsis Triage': {'category': 'logistical', 'phase': 'registration and triaging'},\n",
    "    'Leucocytes': {'category': 'medical', 'phase': 'measurement'},\n",
    "    'CRP': {'category': 'medical', 'phase': 'measurement'},\n",
    "    'LacticAcid': {'category': 'medical', 'phase': 'measurement'},\n",
    "    'Admission IC': {'category': 'logistical', 'phase': 'admission or transfer'},\n",
    "    'Admission NC': {'category': 'logistical', 'phase': 'admission or transfer'},\n",
    "    'Release A': {'category': 'logistical', 'phase': 'discharge'},\n",
    "    'Release B': {'category': 'logistical', 'phase': 'discharge'},\n",
    "    'Release C': {'category': 'logistical', 'phase': 'discharge'},\n",
    "    'Release D': {'category': 'logistical', 'phase': 'discharge'},\n",
    "    'Release E': {'category': 'logistical', 'phase': 'discharge'},\n",
    "    'Return ER': {'category': 'logistical', 'phase': 'returning'},\n",
    "    'IV Liquid': {'category': 'medical', 'phase': 'giving infusions'},\n",
    "    'IV Antibiotics': {'category': 'medical', 'phase': 'giving infusions'},\n",
    "} \n",
    "# medical/logistical category\n",
    "log.loc[:, 'category'] = log[const.ACTIVITY].apply(\n",
    "    lambda a: ACTIVITY_CLUSTERS[a]['category']\n",
    ")\n",
    "# phase\n",
    "log.loc[:, 'phase'] = log[const.ACTIVITY].apply(\n",
    "    lambda a: ACTIVITY_CLUSTERS[a]['phase']\n",
    ")\n",
    "\n",
    "# Annotate cases (all events within the same case)\n",
    "for case, events in log.groupby(const.CASE_ID):\n",
    "    unique_activities = events[const.ACTIVITY].unique()\n",
    "    # returning patients?\n",
    "    log.loc[(log[const.CASE_ID] == case), 'case:returning'] = True if 'Return ER' in unique_activities else False\n",
    "    # release type\n",
    "    release_activity = [a for a in unique_activities if a.startswith('Release')]           \n",
    "    if len(release_activity) == 1:\n",
    "        log.loc[(log[const.CASE_ID] == case), 'case:release_type'] = release_activity[0]\n",
    "    elif len(release_activity) == 0:\n",
    "        log.loc[(log[const.CASE_ID] == case), 'case:release_type'] = 'not released'\n",
    "    else:\n",
    "        raise ValueError('len of {} is {}'.format(len(release_activity), release_activity))\n",
    "\n",
    "# Populate event attributes that are case-level attributes\n",
    "# Pre-check: Are all of the attributes indeed \"case-level\"?\n",
    "MED_ATTRS = [col for col in log.columns if col.startswith('Diagnostic')]\n",
    "MED_ATTRS += [\n",
    "    'DisfuncOrg', 'Hypotensie', 'Hypoxie', 'InfectionSuspected', 'Infusion', 'Oligurie', \n",
    "    'SIRSCritHeartRate', 'SIRSCritLeucos', 'SIRSCritTachypnea', 'SIRSCritTemperature', 'SIRSCriteria2OrMore'\n",
    "]\n",
    "\n",
    "#     [YES]\n",
    "#     for case, events in log.groupby(const.CASE_ID):\n",
    "#         if len(events.value_counts(subset=ATTR_TO_CHECK, dropna=True)) == 1:\n",
    "#             pass\n",
    "#         else:\n",
    "#             raise ValueError('duplicates found: {}'.format(events_drop_duplicates))\n",
    "for case, events in log.groupby(const.CASE_ID):\n",
    "    for attr in MED_ATTRS:\n",
    "        log.loc[(log[const.CASE_ID] == case), f'case:{attr}'] = events[attr].unique()[0]\n",
    "\n",
    "log.to_csv(f'data/{LOGNAME}.preprocessed.csv')"
   ]
  },
  {
   "cell_type": "markdown",
   "id": "14378fd1-da24-46da-87ca-18d768859fc3",
   "metadata": {
    "tags": []
   },
   "source": [
    "### Experiments\n",
    "\n",
    "##### Preprocessing\n",
    "\n",
    "- Filter out meaningless resource labels: `?`\n",
    "\n",
    "##### Config\n",
    "- Determine CT based on both the original and the \"derived\" trace attributes (as in the dataset description)\n",
    "    \n",
    "    case:returning, case:release_type\n",
    "\n",
    "- Determine AT by\n",
    "    \n",
    "    concept:name (activity label), phase, category\n",
    "    \n",
    "- Determine TT by\n",
    "    \n",
    "    year, month, weekday\n",
    "    \n",
    "- Discover resource groups using AHC, number of groups automatically determined (via CV)\n",
    "\n",
    "- Apply OverallScore, parameters automatically determined (via Grid Search)"
   ]
  }
 ],
 "metadata": {
  "kernelspec": {
   "display_name": "pm",
   "language": "python",
   "name": "python3"
  },
  "language_info": {
   "codemirror_mode": {
    "name": "ipython",
    "version": 3
   },
   "file_extension": ".py",
   "mimetype": "text/x-python",
   "name": "python",
   "nbconvert_exporter": "python",
   "pygments_lexer": "ipython3",
   "version": "3.11.11"
  }
 },
 "nbformat": 4,
 "nbformat_minor": 5
}

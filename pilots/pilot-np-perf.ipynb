{
 "cells": [
  {
   "cell_type": "code",
   "execution_count": 1,
   "id": "9a2374c3-34e7-4120-a9c6-dfc2e6f4b597",
   "metadata": {},
   "outputs": [],
   "source": [
    "import numpy as np\n",
    "\n",
    "rng = np.random.default_rng()"
   ]
  },
  {
   "cell_type": "markdown",
   "id": "a5fa79bf-1a79-480f-b397-59d6162d5bdf",
   "metadata": {},
   "source": [
    "# Data types?\n"
   ]
  },
  {
   "cell_type": "code",
   "execution_count": 2,
   "id": "6f3be147-18c1-4790-a9f2-b4b9bd2e3dda",
   "metadata": {},
   "outputs": [],
   "source": [
    "# a = rng.integers(low=0, high=1, endpoint=True, size=(1394300, 66))\n",
    "# b = rng.integers(low=0, high=1, endpoint=True, size=(15300, 66))\n",
    "\n",
    "# ushort_a = rng.integers(low=0, high=1, endpoint=True, size=(1394300, 66), dtype=np.ushort)\n",
    "# ushort_b = rng.integers(low=0, high=1, endpoint=True, size=(15300, 66), dtype=np.ushort)\n",
    "\n",
    "# uintc_a = rng.integers(low=0, high=1, endpoint=True, size=(1394300, 66), dtype=np.uintc)\n",
    "# uintc_b = rng.integers(low=0, high=1, endpoint=True, size=(15300, 66), dtype=np.uintc)\n",
    "\n",
    "# uint_a = rng.integers(low=0, high=1, endpoint=True, size=(1394300, 66), dtype=np.uint)\n",
    "# uint_b = rng.integers(low=0, high=1, endpoint=True, size=(15300, 66), dtype=np.uint)\n",
    "\n",
    "bool_a = rng.integers(low=0, high=1, endpoint=True, size=(13943, 66), dtype=np.bool_)\n",
    "bool_b = rng.integers(low=0, high=1, endpoint=True, size=(15300, 66), dtype=np.bool_)"
   ]
  },
  {
   "cell_type": "code",
   "execution_count": 3,
   "id": "8d719212-2672-4b22-a6e6-208fbee89edd",
   "metadata": {},
   "outputs": [],
   "source": [
    "# %timeit np.dot(a, b.T)\n",
    "# %timeit np.dot(ushort_a, ushort_b.T)\n",
    "# %timeit np.dot(uintc_a, uintc_b.T)\n",
    "# %timeit np.dot(uint_a, uint_b.T)\n",
    "# %timeit np.dot(bool_a, bool_b.T)"
   ]
  },
  {
   "cell_type": "markdown",
   "id": "2488f315-aa69-4cb2-b361-9649416ecae1",
   "metadata": {},
   "source": [
    "# Implementation of matrix multiplication?"
   ]
  },
  {
   "cell_type": "code",
   "execution_count": 4,
   "id": "aa54a557-fdc7-4728-bc27-7d824c6e1ae0",
   "metadata": {},
   "outputs": [],
   "source": [
    "# %timeit np.matmul(a, b.T)\n",
    "# %timeit np.matmul(ushort_a, ushort_b.T)\n",
    "# %timeit np.matmul(uintc_a, uintc_b.T)\n",
    "# %timeit np.matmul(uint_a, uint_b.T)\n",
    "# %timeit np.matmul(bool_a, bool_b.T)"
   ]
  },
  {
   "cell_type": "code",
   "execution_count": 5,
   "id": "e9794291-3a15-4ca0-b954-6298e9433dcc",
   "metadata": {},
   "outputs": [
    {
     "data": {
      "text/plain": [
       "True"
      ]
     },
     "execution_count": 5,
     "metadata": {},
     "output_type": "execute_result"
    }
   ],
   "source": [
    "np.array_equal(np.dot(bool_a, bool_b.T), np.matmul(bool_a, bool_b.T))"
   ]
  }
 ],
 "metadata": {
  "kernelspec": {
   "display_name": "Python 3",
   "language": "python",
   "name": "python3"
  },
  "language_info": {
   "codemirror_mode": {
    "name": "ipython",
    "version": 3
   },
   "file_extension": ".py",
   "mimetype": "text/x-python",
   "name": "python",
   "nbconvert_exporter": "python",
   "pygments_lexer": "ipython3",
   "version": "3.9.6"
  }
 },
 "nbformat": 4,
 "nbformat_minor": 5
}

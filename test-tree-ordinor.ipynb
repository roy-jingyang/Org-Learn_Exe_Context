{
 "cells": [
  {
   "cell_type": "code",
   "execution_count": 3,
   "id": "7f47523c-c144-4930-b475-b5f0ad3a33cf",
   "metadata": {},
   "outputs": [],
   "source": [
    "import numpy as np\n",
    "import pandas as pd\n",
    "\n",
    "from ordinor.io import read_disco_csv"
   ]
  },
  {
   "cell_type": "code",
   "execution_count": 4,
   "id": "4a058ce4-7224-49c9-bef4-71796196710e",
   "metadata": {},
   "outputs": [
    {
     "name": "stdout",
     "output_type": "stream",
     "text": [
      "Importing from CSV file data/processed/bpic15_amended.csv\n",
      "Scanned 193453 events from \"data/processed/bpic15_amended.csv\".\n",
      "--------------------------------------------------------------------------------\n",
      "Number of events:\t\t193453\n",
      "Number of cases:\t\t5599\n",
      "--------------------------------------------------------------------------------\n",
      "71\n",
      "154\n"
     ]
    }
   ],
   "source": [
    "# el = read_disco_csv('data/processed/wabo.csv')\n",
    "el = read_disco_csv('data/processed/bpic15_amended.csv')\n",
    "# el = read_disco_csv('data/processed/bpic17.csv')\n",
    "\n",
    "print(len(pd.unique(el['org:resource'])))\n",
    "print(len(pd.unique(el['concept:name'])))"
   ]
  },
  {
   "cell_type": "code",
   "execution_count": 5,
   "id": "acf97f49-e1d4-4800-9698-422c30e9dc82",
   "metadata": {},
   "outputs": [],
   "source": [
    "# specification\n",
    "\n",
    "all_cand_attrs = [\n",
    "    # WABO\n",
    "#     {'attr': 'ct:channel', 'attr_type': 'categorical', 'attr_dim': 'CT'},\n",
    "#     {'attr': 'tt:weekday', 'attr_type': 'categorical', 'attr_dim': 'TT'}, \n",
    "#     {'attr': 'tt:ampm', 'attr_type': 'categorical', 'attr_dim': 'TT'},\n",
    "    \n",
    "    # BPIC15\n",
    "    {'attr': 'ct:permit_type', 'attr_type': 'categorical', 'attr_dim': 'CT'},\n",
    "    {'attr': 'at:phase', 'attr_type': 'categorical', 'attr_dim': 'AT'},\n",
    "    {'attr': 'tt:weekday', 'attr_type': 'categorical', 'attr_dim': 'TT'}, \n",
    "    {'attr': 'tt:ampm', 'attr_type': 'categorical', 'attr_dim': 'TT'},\n",
    "    \n",
    "    # BPIC17\n",
    "#     {'attr': 'ct:loan_goal', 'attr_type': 'categorical', 'attr_dim': 'CT'},\n",
    "#     {'attr': 'ct:application_type', 'attr_type': 'categorical', 'attr_dim': 'CT'},\n",
    "#     {'attr': 'ct:requested_amount', 'attr_type': 'numeric', 'attr_dim': 'CT'},\n",
    "#     {'attr': 'at:event_origin', 'attr_type': 'categorical', 'attr_dim': 'AT'},\n",
    "#     {'attr': 'tt:weekday', 'attr_type': 'categorical', 'attr_dim': 'TT'}, \n",
    "#     {'attr': 'tt:ampm', 'attr_type': 'categorical', 'attr_dim': 'TT'},\n",
    "]\n",
    "\n",
    "spec = dict()\n",
    "spec['cand_attrs'] = all_cand_attrs"
   ]
  },
  {
   "cell_type": "code",
   "execution_count": 6,
   "id": "c5a66040-6f48-4fa9-a6b2-b305efc0670c",
   "metadata": {},
   "outputs": [],
   "source": [
    "from ordinor.execution_context import ODTMiner, ODTSAMiner\n",
    "from sklearn.model_selection import KFold\n",
    "from copy import deepcopy\n",
    "kf = KFold(n_splits=5, shuffle=True)"
   ]
  },
  {
   "cell_type": "code",
   "execution_count": 7,
   "id": "9176c352-7e63-43ff-a8b3-31903abd26e4",
   "metadata": {},
   "outputs": [
    {
     "name": "stdout",
     "output_type": "stream",
     "text": [
      "Decision tree initialized with an empty root node\n",
      "\tDis. = 0.000000, Imp. = 1.000000, Score = 1.000000\n",
      "Start to fit decision tree with epsilon = 0.01\n"
     ]
    },
    {
     "ename": "KeyboardInterrupt",
     "evalue": "",
     "output_type": "error",
     "traceback": [
      "\u001b[0;31m---------------------------------------------------------------------------\u001b[0m",
      "\u001b[0;31mKeyboardInterrupt\u001b[0m                         Traceback (most recent call last)",
      "\u001b[0;32m/tmp/ipykernel_329979/1441977857.py\u001b[0m in \u001b[0;36m<module>\u001b[0;34m\u001b[0m\n\u001b[1;32m     20\u001b[0m         \u001b[0mpd\u001b[0m\u001b[0;34m.\u001b[0m\u001b[0mconcat\u001b[0m\u001b[0;34m(\u001b[0m\u001b[0mel_test_agg\u001b[0m\u001b[0;34m)\u001b[0m\u001b[0;34m.\u001b[0m\u001b[0mto_csv\u001b[0m\u001b[0;34m(\u001b[0m\u001b[0;34mf\"5fold_{i}.csv\"\u001b[0m\u001b[0;34m)\u001b[0m\u001b[0;34m\u001b[0m\u001b[0;34m\u001b[0m\u001b[0m\n\u001b[1;32m     21\u001b[0m \u001b[0;32melse\u001b[0m\u001b[0;34m:\u001b[0m\u001b[0;34m\u001b[0m\u001b[0;34m\u001b[0m\u001b[0m\n\u001b[0;32m---> 22\u001b[0;31m     \u001b[0mminer\u001b[0m \u001b[0;34m=\u001b[0m \u001b[0mODTMiner\u001b[0m\u001b[0;34m(\u001b[0m\u001b[0mel\u001b[0m\u001b[0;34m,\u001b[0m \u001b[0mspec\u001b[0m\u001b[0;34m,\u001b[0m \u001b[0meps\u001b[0m\u001b[0;34m=\u001b[0m\u001b[0;36m1e-2\u001b[0m\u001b[0;34m)\u001b[0m\u001b[0;34m\u001b[0m\u001b[0;34m\u001b[0m\u001b[0m\n\u001b[0m",
      "\u001b[0;32m~/Projects/OrdinoR/ordinor/execution_context/rule_based/decision_tree.py\u001b[0m in \u001b[0;36m__init__\u001b[0;34m(self, el, spec, eps, trace_history)\u001b[0m\n\u001b[1;32m     19\u001b[0m     \u001b[0;32mdef\u001b[0m \u001b[0m__init__\u001b[0m\u001b[0;34m(\u001b[0m\u001b[0mself\u001b[0m\u001b[0;34m,\u001b[0m \u001b[0mel\u001b[0m\u001b[0;34m,\u001b[0m \u001b[0mspec\u001b[0m\u001b[0;34m,\u001b[0m \u001b[0meps\u001b[0m\u001b[0;34m,\u001b[0m \u001b[0mtrace_history\u001b[0m\u001b[0;34m=\u001b[0m\u001b[0;32mFalse\u001b[0m\u001b[0;34m)\u001b[0m\u001b[0;34m:\u001b[0m\u001b[0;34m\u001b[0m\u001b[0;34m\u001b[0m\u001b[0m\n\u001b[1;32m     20\u001b[0m         \u001b[0mself\u001b[0m\u001b[0;34m.\u001b[0m\u001b[0m_init_miner\u001b[0m\u001b[0;34m(\u001b[0m\u001b[0mel\u001b[0m\u001b[0;34m,\u001b[0m \u001b[0mspec\u001b[0m\u001b[0;34m,\u001b[0m \u001b[0meps\u001b[0m\u001b[0;34m,\u001b[0m \u001b[0mtrace_history\u001b[0m\u001b[0;34m)\u001b[0m\u001b[0;34m\u001b[0m\u001b[0;34m\u001b[0m\u001b[0m\n\u001b[0;32m---> 21\u001b[0;31m         \u001b[0mself\u001b[0m\u001b[0;34m.\u001b[0m\u001b[0mfit_decision_tree\u001b[0m\u001b[0;34m(\u001b[0m\u001b[0;34m)\u001b[0m\u001b[0;34m\u001b[0m\u001b[0;34m\u001b[0m\u001b[0m\n\u001b[0m\u001b[1;32m     22\u001b[0m         \u001b[0msuper\u001b[0m\u001b[0;34m(\u001b[0m\u001b[0;34m)\u001b[0m\u001b[0;34m.\u001b[0m\u001b[0m__init__\u001b[0m\u001b[0;34m(\u001b[0m\u001b[0mel\u001b[0m\u001b[0;34m)\u001b[0m\u001b[0;34m\u001b[0m\u001b[0;34m\u001b[0m\u001b[0m\n\u001b[1;32m     23\u001b[0m \u001b[0;34m\u001b[0m\u001b[0m\n",
      "\u001b[0;32m~/Projects/OrdinoR/ordinor/execution_context/rule_based/decision_tree.py\u001b[0m in \u001b[0;36mfit_decision_tree\u001b[0;34m(self)\u001b[0m\n\u001b[1;32m    314\u001b[0m         \u001b[0;32mwhile\u001b[0m \u001b[0;32mTrue\u001b[0m\u001b[0;34m:\u001b[0m\u001b[0;34m\u001b[0m\u001b[0;34m\u001b[0m\u001b[0m\n\u001b[1;32m    315\u001b[0m             \u001b[0;31m# find the next best split\u001b[0m\u001b[0;34m\u001b[0m\u001b[0;34m\u001b[0m\u001b[0;34m\u001b[0m\u001b[0m\n\u001b[0;32m--> 316\u001b[0;31m             \u001b[0mret\u001b[0m \u001b[0;34m=\u001b[0m \u001b[0mself\u001b[0m\u001b[0;34m.\u001b[0m\u001b[0m_find_attr_split\u001b[0m\u001b[0;34m(\u001b[0m\u001b[0;34m)\u001b[0m\u001b[0;34m\u001b[0m\u001b[0;34m\u001b[0m\u001b[0m\n\u001b[0m\u001b[1;32m    317\u001b[0m             \u001b[0;32mif\u001b[0m \u001b[0mret\u001b[0m \u001b[0;32mis\u001b[0m \u001b[0;32mNone\u001b[0m\u001b[0;34m:\u001b[0m\u001b[0;34m\u001b[0m\u001b[0;34m\u001b[0m\u001b[0m\n\u001b[1;32m    318\u001b[0m                 \u001b[0mprint\u001b[0m\u001b[0;34m(\u001b[0m\u001b[0;34m'No further split can be performed.'\u001b[0m\u001b[0;34m)\u001b[0m\u001b[0;34m\u001b[0m\u001b[0;34m\u001b[0m\u001b[0m\n",
      "\u001b[0;32m~/Projects/OrdinoR/ordinor/execution_context/rule_based/decision_tree.py\u001b[0m in \u001b[0;36m_find_attr_split\u001b[0;34m(self)\u001b[0m\n\u001b[1;32m    544\u001b[0m                         )\n\u001b[1;32m    545\u001b[0m                         \u001b[0;32mfor\u001b[0m \u001b[0mrules\u001b[0m \u001b[0;32min\u001b[0m \u001b[0mcand_rules\u001b[0m\u001b[0;34m:\u001b[0m\u001b[0;34m\u001b[0m\u001b[0;34m\u001b[0m\u001b[0m\n\u001b[0;32m--> 546\u001b[0;31m                             \u001b[0mdis\u001b[0m\u001b[0;34m,\u001b[0m \u001b[0mimp\u001b[0m \u001b[0;34m=\u001b[0m \u001b[0mself\u001b[0m\u001b[0;34m.\u001b[0m\u001b[0m_evaluate_split\u001b[0m\u001b[0;34m(\u001b[0m\u001b[0mrules\u001b[0m\u001b[0;34m,\u001b[0m \u001b[0mattr_dim\u001b[0m\u001b[0;34m)\u001b[0m\u001b[0;34m\u001b[0m\u001b[0;34m\u001b[0m\u001b[0m\n\u001b[0m\u001b[1;32m    547\u001b[0m                             \u001b[0mdelta_dis\u001b[0m \u001b[0;34m=\u001b[0m \u001b[0mdis\u001b[0m \u001b[0;34m-\u001b[0m \u001b[0mself\u001b[0m\u001b[0;34m.\u001b[0m\u001b[0mval_dis\u001b[0m\u001b[0;34m\u001b[0m\u001b[0;34m\u001b[0m\u001b[0m\n\u001b[1;32m    548\u001b[0m                             \u001b[0mdelta_imp\u001b[0m \u001b[0;34m=\u001b[0m \u001b[0mimp\u001b[0m \u001b[0;34m-\u001b[0m \u001b[0mself\u001b[0m\u001b[0;34m.\u001b[0m\u001b[0mval_imp\u001b[0m\u001b[0;34m\u001b[0m\u001b[0;34m\u001b[0m\u001b[0m\n",
      "\u001b[0;32m~/Projects/OrdinoR/ordinor/execution_context/rule_based/decision_tree.py\u001b[0m in \u001b[0;36m_evaluate_split\u001b[0;34m(self, split_rules, attr_dim, nodes)\u001b[0m\n\u001b[1;32m    649\u001b[0m             }\n\u001b[1;32m    650\u001b[0m \u001b[0;34m\u001b[0m\u001b[0m\n\u001b[0;32m--> 651\u001b[0;31m         dis = dispersal(\n\u001b[0m\u001b[1;32m    652\u001b[0m             \u001b[0mm_co_t\u001b[0m\u001b[0;34m=\u001b[0m\u001b[0mpd\u001b[0m\u001b[0;34m.\u001b[0m\u001b[0mDataFrame\u001b[0m\u001b[0;34m.\u001b[0m\u001b[0mfrom_dict\u001b[0m\u001b[0;34m(\u001b[0m\u001b[0mcand_m_node_t\u001b[0m\u001b[0;34m,\u001b[0m \u001b[0morient\u001b[0m\u001b[0;34m=\u001b[0m\u001b[0;34m'index'\u001b[0m\u001b[0;34m)\u001b[0m\u001b[0;34m,\u001b[0m\u001b[0;34m\u001b[0m\u001b[0;34m\u001b[0m\u001b[0m\n\u001b[1;32m    653\u001b[0m             \u001b[0mm_event_co\u001b[0m\u001b[0;34m=\u001b[0m\u001b[0mcand_m_event_node\u001b[0m\u001b[0;34m,\u001b[0m\u001b[0;34m\u001b[0m\u001b[0;34m\u001b[0m\u001b[0m\n",
      "\u001b[0;32m~/Projects/OrdinoR/ordinor/execution_context/rule_based/score_funcs.py\u001b[0m in \u001b[0;36mdispersal\u001b[0;34m(m_co_t, m_event_co, m_event_r)\u001b[0m\n\u001b[1;32m    137\u001b[0m         \u001b[0mwt\u001b[0m \u001b[0;34m=\u001b[0m  \u001b[0mn_rows\u001b[0m \u001b[0;34m/\u001b[0m \u001b[0mN_events\u001b[0m\u001b[0;34m\u001b[0m\u001b[0;34m\u001b[0m\u001b[0m\n\u001b[1;32m    138\u001b[0m         \u001b[0;31m# find all involved execution contexts\u001b[0m\u001b[0;34m\u001b[0m\u001b[0;34m\u001b[0m\u001b[0;34m\u001b[0m\u001b[0m\n\u001b[0;32m--> 139\u001b[0;31m         \u001b[0mco_ids\u001b[0m \u001b[0;34m=\u001b[0m \u001b[0mset\u001b[0m\u001b[0;34m(\u001b[0m\u001b[0mm_event_co\u001b[0m\u001b[0;34m.\u001b[0m\u001b[0mloc\u001b[0m\u001b[0;34m[\u001b[0m\u001b[0mrows\u001b[0m\u001b[0;34m.\u001b[0m\u001b[0mindex\u001b[0m\u001b[0;34m]\u001b[0m\u001b[0;34m)\u001b[0m\u001b[0;34m\u001b[0m\u001b[0;34m\u001b[0m\u001b[0m\n\u001b[0m\u001b[1;32m    140\u001b[0m         \u001b[0;32mif\u001b[0m \u001b[0mlen\u001b[0m\u001b[0;34m(\u001b[0m\u001b[0mco_ids\u001b[0m\u001b[0;34m)\u001b[0m \u001b[0;34m<\u001b[0m \u001b[0;36m2\u001b[0m\u001b[0;34m:\u001b[0m\u001b[0;34m\u001b[0m\u001b[0;34m\u001b[0m\u001b[0m\n\u001b[1;32m    141\u001b[0m             \u001b[0mavg_event_pdist\u001b[0m \u001b[0;34m=\u001b[0m \u001b[0;36m0\u001b[0m\u001b[0;34m\u001b[0m\u001b[0;34m\u001b[0m\u001b[0m\n",
      "\u001b[0;31mKeyboardInterrupt\u001b[0m: "
     ]
    }
   ],
   "source": [
    "RUN_CV = False\n",
    "\n",
    "if RUN_CV:\n",
    "    i = 0\n",
    "    for train_index, test_index in kf.split(el):\n",
    "        i += 1\n",
    "        el_train = el.loc[train_index]\n",
    "        el_test = el.loc[test_index]\n",
    "\n",
    "        miner = ODTMiner(el_train, spec, eps=1e-2)\n",
    "\n",
    "        el_test_agg = []\n",
    "        for node_label, node in miner._leaves.items():\n",
    "            el_test_par = deepcopy(node.composite_rule.apply(el_test))\n",
    "            el_test_par['case_type'] = node.ct_label\n",
    "            el_test_par['activity_type'] = node.at_label\n",
    "            el_test_par['time_type'] = node.tt_label\n",
    "\n",
    "            el_test_agg.append(el_test_par[['org:resource', 'case_type', 'activity_type', 'time_type']])\n",
    "        pd.concat(el_test_agg).to_csv(f\"5fold_{i}.csv\")\n",
    "else:\n",
    "    miner = ODTMiner(el, spec, eps=1e-2)"
   ]
  },
  {
   "cell_type": "code",
   "execution_count": null,
   "id": "f8a15402-26d5-4644-bee3-57015a9f7c3f",
   "metadata": {},
   "outputs": [],
   "source": [
    "if not RUN_CV:\n",
    "    rl = miner.derive_resource_log(el)\n",
    "\n",
    "    print('CT types: {}'.format(len(pd.unique(rl['case_type']))))\n",
    "    print('AT types: {}'.format(len(pd.unique(rl['activity_type']))))\n",
    "    print('TT types: {}'.format(len(pd.unique(rl['time_type']))))\n",
    "\n",
    "    print(rl)\n",
    "\n",
    "    for co, events in rl.groupby(['case_type', 'activity_type', 'time_type']):\n",
    "        print(co)\n",
    "        print('\\t', end='')\n",
    "        print(f\"{len(events)} events\")"
   ]
  },
  {
   "cell_type": "code",
   "execution_count": null,
   "id": "cce24463-2c57-41f4-9396-f6ee9f7480a5",
   "metadata": {},
   "outputs": [],
   "source": [
    "if not RUN_CV:\n",
    "    rl.to_csv('test_rl.csv')"
   ]
  }
 ],
 "metadata": {
  "kernelspec": {
   "display_name": "Python 3 (ipykernel)",
   "language": "python",
   "name": "python3"
  },
  "language_info": {
   "codemirror_mode": {
    "name": "ipython",
    "version": 3
   },
   "file_extension": ".py",
   "mimetype": "text/x-python",
   "name": "python",
   "nbconvert_exporter": "python",
   "pygments_lexer": "ipython3",
   "version": "3.9.6"
  }
 },
 "nbformat": 4,
 "nbformat_minor": 5
}

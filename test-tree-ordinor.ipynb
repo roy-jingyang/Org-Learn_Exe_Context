{
 "cells": [
  {
   "cell_type": "code",
   "execution_count": 1,
   "id": "7f47523c-c144-4930-b475-b5f0ad3a33cf",
   "metadata": {},
   "outputs": [],
   "source": [
    "import numpy as np\n",
    "import pandas as pd\n",
    "\n",
    "from ordinor.io import read_disco_csv"
   ]
  },
  {
   "cell_type": "code",
   "execution_count": 2,
   "id": "4a058ce4-7224-49c9-bef4-71796196710e",
   "metadata": {},
   "outputs": [
    {
     "name": "stdout",
     "output_type": "stream",
     "text": [
      "Importing from CSV file data/processed/wabo.csv\n",
      "Scanned 6641 events from \"data/processed/wabo.csv\".\n",
      "--------------------------------------------------------------------------------\n",
      "Number of events:\t\t6641\n",
      "Number of cases:\t\t1348\n",
      "--------------------------------------------------------------------------------\n",
      "44\n",
      "27\n"
     ]
    }
   ],
   "source": [
    "el = read_disco_csv('data/processed/wabo.csv')\n",
    "# el = read_disco_csv('data/processed/bpic15.csv')\n",
    "# el = read_disco_csv('data/processed/bpic17.csv')\n",
    "\n",
    "print(len(pd.unique(el['org:resource'])))\n",
    "print(len(pd.unique(el['concept:name'])))"
   ]
  },
  {
   "cell_type": "code",
   "execution_count": 3,
   "id": "acf97f49-e1d4-4800-9698-422c30e9dc82",
   "metadata": {},
   "outputs": [],
   "source": [
    "# specification\n",
    "\n",
    "all_cand_attrs = [\n",
    "    # WABO\n",
    "    {'attr': 'ct:channel', 'attr_type': 'categorical', 'attr_dim': 'CT'},\n",
    "    {'attr': 'tt:weekday', 'attr_type': 'categorical', 'attr_dim': 'TT'}, \n",
    "    {'attr': 'tt:ampm', 'attr_type': 'categorical', 'attr_dim': 'TT'},\n",
    "    \n",
    "    # BPIC15\n",
    "#     {'attr': 'ct:permit_type', 'attr_type': 'categorical', 'attr_dim': 'CT'},\n",
    "#     {'attr': 'tt:weekday', 'attr_type': 'categorical', 'attr_dim': 'TT'}, \n",
    "#     {'attr': 'tt:ampm', 'attr_type': 'categorical', 'attr_dim': 'TT'},\n",
    "    \n",
    "    # BPIC17\n",
    "#     {'attr': 'ct:loan_goal', 'attr_type': 'categorical', 'attr_dim': 'CT'},\n",
    "#     {'attr': 'ct:application_type', 'attr_type': 'categorical', 'attr_dim': 'CT'},\n",
    "#     {'attr': 'ct:requested_amount', 'attr_type': 'numeric', 'attr_dim': 'CT'},\n",
    "#     {'attr': 'at:event_origin', 'attr_type': 'categorical', 'attr_dim': 'AT'},\n",
    "#     {'attr': 'tt:weekday', 'attr_type': 'categorical', 'attr_dim': 'TT'}, \n",
    "#     {'attr': 'tt:ampm', 'attr_type': 'categorical', 'attr_dim': 'TT'},\n",
    "]\n",
    "\n",
    "spec = dict()\n",
    "spec['cand_attrs'] = all_cand_attrs"
   ]
  },
  {
   "cell_type": "code",
   "execution_count": 4,
   "id": "c5a66040-6f48-4fa9-a6b2-b305efc0670c",
   "metadata": {},
   "outputs": [],
   "source": [
    "from ordinor.execution_context import ODTMiner, ODTSAMiner\n",
    "from sklearn.model_selection import KFold\n",
    "from copy import deepcopy\n",
    "kf = KFold(n_splits=5, shuffle=True)"
   ]
  },
  {
   "cell_type": "code",
   "execution_count": 5,
   "id": "9176c352-7e63-43ff-a8b3-31903abd26e4",
   "metadata": {},
   "outputs": [
    {
     "name": "stdout",
     "output_type": "stream",
     "text": [
      "Decision tree initialized with an empty root node\n",
      "\tDis. = 0.000000, Imp. = 1.000000, Score = 1.000000\n",
      "Start to fit decision tree with epsilon = 0.01\n",
      "Tree grows by splitting all current leaf nodes on `tt:weekday`\n",
      "\tDis. = 0.319342, Imp. = 0.978096, Score = 0.481483\n",
      "Tree grows by splitting all current leaf nodes on `tt:weekday`\n",
      "\tDis. = 0.510203, Imp. = 0.961351, Score = 0.666621\n",
      "Tree grows by splitting all current leaf nodes on `ct:channel`\n",
      "\tDis. = 0.287236, Imp. = 0.953563, Score = 0.441486\n",
      "Tree grows by splitting all current leaf nodes on `tt:weekday`\n",
      "\tDis. = 0.368059, Imp. = 0.945277, Score = 0.529823\n",
      "Tree grows by splitting all current leaf nodes on `tt:ampm`\n",
      "\tDis. = 0.394035, Imp. = 0.919521, Score = 0.551668\n",
      "Tree grows by splitting all current leaf nodes on `tt:weekday`\n",
      "\tDis. = 0.416854, Imp. = 0.905211, Score = 0.570836\n",
      "Tree grows by splitting all current leaf nodes on `ct:channel`\n",
      "\tDis. = 0.490380, Imp. = 0.884213, Score = 0.630878\n",
      "Tree grows by splitting all current leaf nodes on `ct:channel`\n",
      "\tDis. = 0.491448, Imp. = 0.876580, Score = 0.629802\n",
      "Tree grows by splitting all current leaf nodes on `ct:channel`\n",
      "\tDis. = 0.491527, Imp. = 0.876020, Score = 0.629722\n",
      "Tree grows by splitting all current leaf nodes on `tt:weekday`\n",
      "\tDis. = 0.491575, Imp. = 0.875420, Score = 0.629606\n",
      "Tree grows by splitting all current leaf nodes on `tt:weekday`\n",
      "\tDis. = 0.492000, Imp. = 0.868061, Score = 0.628040\n",
      "No further split can be performed.\n",
      "Procedure stopped with final scores:\n",
      "[{'step': 1, 'dispersal': 0.3193417825341493, 'impurity': 0.9780958304478127, 'target': 1.0219041695521873, 'solution': {23: Node [23]: (CT=0, AT=0, TT=19), containing 1626 events.\n",
      "\tCT=[0]⊥ (null)\n",
      "\tAT=[0]⊥ (null)\n",
      "\tTT=[19](`tt:weekday` ∈ {'Sat', 'Thu'}), 24: Node [24]: (CT=0, AT=0, TT=20), containing 5015 events.\n",
      "\tCT=[0]⊥ (null)\n",
      "\tAT=[0]⊥ (null)\n",
      "\tTT=[20](`tt:weekday` ∈ {'Sun', 'Mon', 'Wed', 'Tue', 'Fri'})}}, {'step': 2, 'dispersal': 0.5102034803070266, 'impurity': 0.9613508983663637, 'target': 0.6147921050461933, 'solution': {23: Node [23]: (CT=0, AT=0, TT=19), containing 1626 events.\n",
      "\tCT=[0]⊥ (null)\n",
      "\tAT=[0]⊥ (null)\n",
      "\tTT=[19](`tt:weekday` ∈ {'Sat', 'Thu'}), 49: Node [49]: (CT=0, AT=0, TT=37), containing 1137 events.\n",
      "\tCT=[0]⊥ (null)\n",
      "\tAT=[0]⊥ (null)\n",
      "\tTT=[37](`tt:weekday` ∈ {'Mon', 'Sun'}), 50: Node [50]: (CT=0, AT=0, TT=38), containing 3878 events.\n",
      "\tCT=[0]⊥ (null)\n",
      "\tAT=[0]⊥ (null)\n",
      "\tTT=[38](`tt:weekday` ∈ {'Tue', 'Wed', 'Fri'})}}, {'step': 3, 'dispersal': 0.28723574586684264, 'impurity': 0.9535630321574063, 'target': 0.44511823564749636, 'solution': {87: Node [87]: (CT=25, AT=0, TT=19), containing 50 events.\n",
      "\tCT=[25](`ct:channel` ∈ {'Post', 'Intern'})\n",
      "\tAT=[0]⊥ (null)\n",
      "\tTT=[19](`tt:weekday` ∈ {'Sat', 'Thu'}), 88: Node [88]: (CT=26, AT=0, TT=19), containing 1576 events.\n",
      "\tCT=[26](`ct:channel` ∈ {'e-mail', 'Desk', 'Internet'})\n",
      "\tAT=[0]⊥ (null)\n",
      "\tTT=[19](`tt:weekday` ∈ {'Sat', 'Thu'}), 89: Node [89]: (CT=25, AT=0, TT=37), containing 31 events.\n",
      "\tCT=[25](`ct:channel` ∈ {'Post', 'Intern'})\n",
      "\tAT=[0]⊥ (null)\n",
      "\tTT=[37](`tt:weekday` ∈ {'Mon', 'Sun'}), 90: Node [90]: (CT=26, AT=0, TT=37), containing 1106 events.\n",
      "\tCT=[26](`ct:channel` ∈ {'e-mail', 'Desk', 'Internet'})\n",
      "\tAT=[0]⊥ (null)\n",
      "\tTT=[37](`tt:weekday` ∈ {'Mon', 'Sun'}), 91: Node [91]: (CT=25, AT=0, TT=38), containing 147 events.\n",
      "\tCT=[25](`ct:channel` ∈ {'Post', 'Intern'})\n",
      "\tAT=[0]⊥ (null)\n",
      "\tTT=[38](`tt:weekday` ∈ {'Tue', 'Wed', 'Fri'}), 92: Node [92]: (CT=26, AT=0, TT=38), containing 3731 events.\n",
      "\tCT=[26](`ct:channel` ∈ {'e-mail', 'Desk', 'Internet'})\n",
      "\tAT=[0]⊥ (null)\n",
      "\tTT=[38](`tt:weekday` ∈ {'Tue', 'Wed', 'Fri'})}}]\n",
      "--------------------------------------------------------------------------------\n",
      "Count of Types in the current ODTMiner:\n",
      "Number of C Types:\t\t5\n",
      "Number of A Types:\t\t1\n",
      "Number of T Types:\t\t14\n",
      "--------------------------------------------------------------------------------\n"
     ]
    }
   ],
   "source": [
    "RUN_CV = False\n",
    "\n",
    "if RUN_CV:\n",
    "    i = 0\n",
    "    for train_index, test_index in kf.split(el):\n",
    "        i += 1\n",
    "        el_train = el.loc[train_index]\n",
    "        el_test = el.loc[test_index]\n",
    "\n",
    "        miner = ODTMiner(el_train, spec, eps=1e-2)\n",
    "\n",
    "        el_test_agg = []\n",
    "        for node_label, node in miner._leaves.items():\n",
    "            el_test_par = deepcopy(node.composite_rule.apply(el_test))\n",
    "            el_test_par['case_type'] = node.ct_label\n",
    "            el_test_par['activity_type'] = node.at_label\n",
    "            el_test_par['time_type'] = node.tt_label\n",
    "\n",
    "            el_test_agg.append(el_test_par[['org:resource', 'case_type', 'activity_type', 'time_type']])\n",
    "        pd.concat(el_test_agg).to_csv(f\"5fold_{i}.csv\")\n",
    "else:\n",
    "    miner = ODTMiner(el, spec, eps=1e-2)"
   ]
  },
  {
   "cell_type": "code",
   "execution_count": null,
   "id": "f8a15402-26d5-4644-bee3-57015a9f7c3f",
   "metadata": {},
   "outputs": [],
   "source": [
    "if not RUN_CV:\n",
    "    rl = miner.derive_resource_log(el)\n",
    "\n",
    "    print('CT types: {}'.format(len(pd.unique(rl['case_type']))))\n",
    "    print('AT types: {}'.format(len(pd.unique(rl['activity_type']))))\n",
    "    print('TT types: {}'.format(len(pd.unique(rl['time_type']))))\n",
    "\n",
    "    print(rl)\n",
    "\n",
    "    for co, events in rl.groupby(['case_type', 'activity_type', 'time_type']):\n",
    "        print(co)\n",
    "        print('\\t', end='')\n",
    "        print(f\"{len(events)} events\")"
   ]
  },
  {
   "cell_type": "code",
   "execution_count": null,
   "id": "cce24463-2c57-41f4-9396-f6ee9f7480a5",
   "metadata": {},
   "outputs": [],
   "source": [
    "if not RUN_CV:\n",
    "    rl.to_csv('test_rl.csv')"
   ]
  }
 ],
 "metadata": {
  "kernelspec": {
   "display_name": "Python 3 (ipykernel)",
   "language": "python",
   "name": "python3"
  },
  "language_info": {
   "codemirror_mode": {
    "name": "ipython",
    "version": 3
   },
   "file_extension": ".py",
   "mimetype": "text/x-python",
   "name": "python",
   "nbconvert_exporter": "python",
   "pygments_lexer": "ipython3",
   "version": "3.9.6"
  }
 },
 "nbformat": 4,
 "nbformat_minor": 5
}

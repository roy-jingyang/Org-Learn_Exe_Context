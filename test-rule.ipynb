{
 "cells": [
  {
   "cell_type": "code",
   "execution_count": 1,
   "id": "ceaba16f-e59c-4056-81fa-b1431e11f73b",
   "metadata": {},
   "outputs": [],
   "source": [
    "import pandas as pd\n",
    "\n",
    "from ordinor.execution_context.rule_based import AtomicRule, Rule"
   ]
  },
  {
   "cell_type": "code",
   "execution_count": 2,
   "id": "f0613b94-2a32-475f-b5b5-6edfced4bf25",
   "metadata": {
    "jupyter": {
     "source_hidden": true
    },
    "tags": []
   },
   "outputs": [
    {
     "name": "stdout",
     "output_type": "stream",
     "text": [
      "⊥ (null)\n"
     ]
    }
   ],
   "source": [
    "ar_null = AtomicRule()\n",
    "\n",
    "print(ar_null)"
   ]
  },
  {
   "cell_type": "code",
   "execution_count": 3,
   "id": "6f96ea5a-033d-4708-91cf-6e48ee28c61a",
   "metadata": {
    "tags": []
   },
   "outputs": [
    {
     "name": "stdout",
     "output_type": "stream",
     "text": [
      "`customer_type` ∈ {'silver', 'gold'}\n",
      "`customer_type` ∈ {'gold'}\n",
      "True\n",
      "False\n",
      "False\n",
      "False\n",
      "True\n",
      "True\n"
     ]
    }
   ],
   "source": [
    "ar1 = AtomicRule(attr='customer_type', attr_type='categorical', attr_vals={'gold', 'silver'}, attr_dim='CT')  # ar1 is looser\n",
    "ar2 = AtomicRule(attr='customer_type', attr_type='categorical', attr_vals={'gold'}, attr_dim='CT')            # ar2 is stricter\n",
    "\n",
    "print(ar1)\n",
    "print(ar2)\n",
    "\n",
    "print(ar1 == ar1)\n",
    "print(ar1 == ar2)\n",
    "\n",
    "print(ar1 > ar2)\n",
    "print(ar1 >= ar2)\n",
    "print(ar1 < ar2)\n",
    "print(ar1 <= ar2)"
   ]
  },
  {
   "cell_type": "code",
   "execution_count": 4,
   "id": "a2f3af8a-7c4e-4ac8-9209-061dc09996b4",
   "metadata": {
    "tags": []
   },
   "outputs": [
    {
     "name": "stdout",
     "output_type": "stream",
     "text": [
      "`loan_amount` ∈ [5000, 15000]\n",
      "`loan_amount` ∈ [5000, 15000)\n",
      "True\n",
      "True\n",
      "False\n",
      "True\n"
     ]
    }
   ],
   "source": [
    "ar3 = AtomicRule(attr='loan_amount', attr_type='numeric', attr_vals=pd.Interval(5000, 15000, closed='both'), attr_dim='CT') # ar3 is looser\n",
    "ar4 = AtomicRule(attr='loan_amount', attr_type='numeric', attr_vals=pd.Interval(5000, 15000, closed='left'), attr_dim='CT') # ar4 is stricter\n",
    "\n",
    "print(ar3)\n",
    "print(ar4)\n",
    "\n",
    "print(ar_null < ar3)\n",
    "print(ar3 >= ar4)\n",
    "print(ar3 <= ar_null)\n",
    "print(ar3 != ar_null)\n",
    "\n",
    "#print(ar1 < ar3)"
   ]
  },
  {
   "cell_type": "code",
   "execution_count": 5,
   "id": "a5cc02c9-4e9b-4eb4-9030-f845b8ca15f3",
   "metadata": {
    "jupyter": {
     "source_hidden": true
    },
    "tags": []
   },
   "outputs": [
    {
     "name": "stdout",
     "output_type": "stream",
     "text": [
      "(`customer_type` ∈ {'silver', 'gold'}) ∧ (`customer_type` ∈ {'gold'}) ∧ (`loan_amount` ∈ [5000, 15000])\n",
      "(`customer_type` ∈ {'silver', 'gold'}) ∧ (`customer_type` ∈ {'gold'}) ∧ (`loan_amount` ∈ [5000, 15000])\n",
      "⊥ (null)\n",
      "⊥ (null)\n",
      "{'loan_amount', 'customer_type'}\n",
      "3\n"
     ]
    }
   ],
   "source": [
    "rule = Rule(ars=[ar_null, ar_null, ar1, ar2, ar3])\n",
    "\n",
    "print(rule)\n",
    "\n",
    "rule_ct, rule_at, rule_tt = rule.to_types()\n",
    "\n",
    "print(rule_ct)\n",
    "print(rule_at)\n",
    "print(rule_tt)\n",
    "\n",
    "print(rule.get_attrs())\n",
    "\n",
    "print(len(rule))"
   ]
  },
  {
   "cell_type": "code",
   "execution_count": 6,
   "id": "ddf83975-ebac-47b2-a8ab-9a44c89afa15",
   "metadata": {
    "tags": []
   },
   "outputs": [
    {
     "name": "stdout",
     "output_type": "stream",
     "text": [
      "(`customer_type` ∈ {'silver', 'gold'})\n"
     ]
    }
   ],
   "source": [
    "rule = Rule(ars=[ar1])\n",
    "\n",
    "ar4 = AtomicRule(attr='customer_type', attr_type='categorical', attr_vals={'normal'}, attr_dim='CT')\n",
    "\n",
    "print(rule)"
   ]
  },
  {
   "cell_type": "code",
   "execution_count": 7,
   "id": "21c7f68d-0d64-4401-9d46-b49de8ff3191",
   "metadata": {},
   "outputs": [
    {
     "name": "stdout",
     "output_type": "stream",
     "text": [
      "Importing from CSV file data/processed/wabo.csv\n",
      "Scanned 6641 events from \"data/processed/wabo.csv\".\n",
      "--------------------------------------------------------------------------------\n",
      "Number of events:\t\t6641\n",
      "Number of cases:\t\t1348\n",
      "--------------------------------------------------------------------------------\n",
      "      Unnamed: 0 case:concept:name org:resource  \\\n",
      "0              0        case-10011   Resource21   \n",
      "1              1        case-10011   Resource10   \n",
      "2              2        case-10011   Resource21   \n",
      "3              3        case-10011   Resource21   \n",
      "4              5        case-10017   Resource30   \n",
      "...          ...               ...          ...   \n",
      "6636        8572         case-9997   Resource06   \n",
      "6637        8573         case-9997   Resource06   \n",
      "6638        8574         case-9997   Resource06   \n",
      "6639        8575         case-9997   Resource06   \n",
      "6640        8576         case-9997   Resource06   \n",
      "\n",
      "                       time:timestamp r:org:group  r:group  \\\n",
      "0    2011-10-11 21:45:40.276000+00:00     Group 1  Group 2   \n",
      "1    2011-10-12 16:26:25.398000+00:00     Group 4  Group 2   \n",
      "2    2011-11-25 00:36:51.302000+00:00     Group 1  Group 2   \n",
      "3    2011-11-25 00:37:16.553000+00:00     Group 4  Group 2   \n",
      "4    2011-10-18 21:47:06.950000+00:00     Group 1  Group 5   \n",
      "...                               ...         ...      ...   \n",
      "6636 2011-10-18 17:04:48.732000+00:00     Group 4  Group 5   \n",
      "6637 2011-10-18 17:05:12.359000+00:00     Group 3  Group 5   \n",
      "6638 2011-10-18 17:05:30.196000+00:00     Group 2  Group 5   \n",
      "6639 2011-10-18 17:06:01.468000+00:00     Group 1  Group 5   \n",
      "6640 2011-10-18 17:06:20.547000+00:00     Group 1  Group 5   \n",
      "\n",
      "                                    concept:name responsible r:department  \\\n",
      "0                        Confirmation of receipt  Resource21      General   \n",
      "1              T02 Check confirmation of receipt  Resource21      General   \n",
      "2             T03 Adjust confirmation of receipt  Resource21      General   \n",
      "3              T02 Check confirmation of receipt  Resource21      General   \n",
      "4         T06 Determine necessity of stop advice  Resource04      General   \n",
      "...                                          ...         ...          ...   \n",
      "6636           T02 Check confirmation of receipt  Resource06      General   \n",
      "6637       T04 Determine confirmation of receipt  Resource06      General   \n",
      "6638  T05 Print and send confirmation of receipt  Resource06      General   \n",
      "6639      T06 Determine necessity of stop advice  Resource06      General   \n",
      "6640  T10 Determine necessity to stop indication  Resource06      General   \n",
      "\n",
      "     ct:channel tt:month  tt:day tt:weekday tt:ampm  @@index  day  \n",
      "0      Internet      Oct  Day_11        Tue      PM        0   11  \n",
      "1      Internet      Oct  Day_12        Wed      PM        1   12  \n",
      "2      Internet      Nov  Day_25        Fri      AM        2   25  \n",
      "3      Internet      Nov  Day_25        Fri      AM        3   25  \n",
      "4      Internet      Oct  Day_18        Tue      PM        4   18  \n",
      "...         ...      ...     ...        ...     ...      ...  ...  \n",
      "6636   Internet      Oct  Day_18        Tue      PM     6636   18  \n",
      "6637   Internet      Oct  Day_18        Tue      PM     6637   18  \n",
      "6638   Internet      Oct  Day_18        Tue      PM     6638   18  \n",
      "6639   Internet      Oct  Day_18        Tue      PM     6639   18  \n",
      "6640   Internet      Oct  Day_18        Tue      PM     6640   18  \n",
      "\n",
      "[6641 rows x 16 columns]\n"
     ]
    }
   ],
   "source": [
    "from ordinor.io import read_disco_csv\n",
    "el = read_disco_csv('data/processed/wabo.csv')\n",
    "\n",
    "el['day'] = el['tt:day'].apply(lambda x: int(x[4:]))\n",
    "\n",
    "print(el)"
   ]
  },
  {
   "cell_type": "code",
   "execution_count": 8,
   "id": "6704d6c3-3080-4542-b8db-c95ec28fdf99",
   "metadata": {
    "tags": []
   },
   "outputs": [
    {
     "name": "stdout",
     "output_type": "stream",
     "text": [
      "(`concept:name` ∈ {'T02 Check confirmation of receipt', 'Confirmation of receipt'})\n",
      "Int64Index([   0,    1,    3,    5,    7,   10,   12,   17,   22,   31,\n",
      "            ...\n",
      "            6581, 6590, 6595, 6604, 6608, 6612, 6617, 6622, 6627, 6636],\n",
      "           dtype='int64', length=1293)\n",
      "(`concept:name` ∈ {'T02 Check confirmation of receipt', 'Confirmation of receipt'}) ∧ (`day` ∈ (4, inf])\n",
      "Int64Index([   0,    1,    3,    5,    7,   10,   12,   17,   22,   31,\n",
      "            ...\n",
      "            6576, 6581, 6590, 6595, 6608, 6612, 6617, 6622, 6627, 6636],\n",
      "           dtype='int64', length=1112)\n"
     ]
    }
   ],
   "source": [
    "ar1 = AtomicRule(attr='concept:name', attr_type='categorical', attr_vals={'Confirmation of receipt', 'T02 Check confirmation of receipt'}, attr_dim='AT')\n",
    "\n",
    "ar2 = AtomicRule(attr='ct:channel', attr_type='categorical', attr_vals={'Desk'}, attr_dim='CT')\n",
    "\n",
    "rule = Rule(ars=[ar1])\n",
    "\n",
    "print(rule)\n",
    "\n",
    "print(rule.apply(el, index_only=True))\n",
    "\n",
    "import numpy as np\n",
    "ar3 = AtomicRule(attr='day', attr_type='numeric', attr_vals=pd.Interval(4, np.inf), attr_dim='TT')\n",
    "\n",
    "rule = Rule(ars=[ar1, ar3])\n",
    "\n",
    "print(rule)\n",
    "\n",
    "print(rule.apply(el, index_only=True))"
   ]
  },
  {
   "cell_type": "code",
   "execution_count": 9,
   "id": "b184df13-d2a7-45af-846c-4c9c42460596",
   "metadata": {
    "tags": []
   },
   "outputs": [
    {
     "name": "stdout",
     "output_type": "stream",
     "text": [
      "{1, 2}\n"
     ]
    },
    {
     "data": {
      "text/plain": [
       "[(`day` ∈ [1.0, 1.25)),\n",
       " (`day` ∈ [1.25, 1.5)),\n",
       " (`day` ∈ [1.5, 1.75)),\n",
       " (`day` ∈ [1.75, 2.0])]"
      ]
     },
     "execution_count": 9,
     "metadata": {},
     "output_type": "execute_result"
    }
   ],
   "source": [
    "from ordinor.execution_context.rule_based import NumericRuleGenerator\n",
    "\n",
    "log = el[el['day'].isin({1, 2})]\n",
    "\n",
    "print(set(log['day']))\n",
    "\n",
    "rules = NumericRuleGenerator.HistogramSplit('day', 'TT', log, bins='fd')\n",
    "\n",
    "rules"
   ]
  },
  {
   "cell_type": "code",
   "execution_count": 10,
   "id": "f646cd8a-ea70-4d5b-b3a1-1ad2ae3353f3",
   "metadata": {},
   "outputs": [
    {
     "data": {
      "text/plain": [
       "[[(`ct:channel` ∈ {'Post', 'Internet', 'Desk'}),\n",
       "  (`ct:channel` ∈ {'Intern', 'e-mail'})],\n",
       " [(`ct:channel` ∈ {'Internet'}),\n",
       "  (`ct:channel` ∈ {'e-mail', 'Intern', 'Desk', 'Post'})],\n",
       " [(`ct:channel` ∈ {'e-mail', 'Intern', 'Internet', 'Desk'}),\n",
       "  (`ct:channel` ∈ {'Post'})],\n",
       " [(`ct:channel` ∈ {'Intern', 'Internet', 'Post'}),\n",
       "  (`ct:channel` ∈ {'e-mail', 'Desk'})],\n",
       " [(`ct:channel` ∈ {'e-mail', 'Intern', 'Internet', 'Post'}),\n",
       "  (`ct:channel` ∈ {'Desk'})]]"
      ]
     },
     "execution_count": 10,
     "metadata": {},
     "output_type": "execute_result"
    }
   ],
   "source": [
    "from ordinor.execution_context.rule_based import CategoricalRuleGenerator\n",
    "\n",
    "rules = list(CategoricalRuleGenerator.RandomTwoSubsetPartition('ct:channel', 'CT', el, n_sample=5))\n",
    "\n",
    "rules"
   ]
  },
  {
   "cell_type": "code",
   "execution_count": null,
   "id": "a8b2551c-a4d4-4712-aca6-dd1f8995f624",
   "metadata": {},
   "outputs": [],
   "source": []
  }
 ],
 "metadata": {
  "kernelspec": {
   "display_name": "Python 3 (ipykernel)",
   "language": "python",
   "name": "python3"
  },
  "language_info": {
   "codemirror_mode": {
    "name": "ipython",
    "version": 3
   },
   "file_extension": ".py",
   "mimetype": "text/x-python",
   "name": "python",
   "nbconvert_exporter": "python",
   "pygments_lexer": "ipython3",
   "version": "3.9.6"
  }
 },
 "nbformat": 4,
 "nbformat_minor": 5
}
